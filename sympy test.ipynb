{
    "cells": [
        {
            "cell_type": "markdown",
            "source": [
                "$ \\int \\sqrt{\\frac{1}{x}}\\, dx $"
            ],
            "metadata": {}
        },
        {
            "cell_type": "code",
            "execution_count": 4,
            "source": [
                "from sympy import *\r\n",
                "x = symbols('x')\r\n",
                "init_session(quiet=True)\r\n",
                "Integral(sqrt(1/x), x)"
            ],
            "outputs": [
                {
                    "output_type": "stream",
                    "name": "stdout",
                    "text": [
                        "\n"
                    ]
                },
                {
                    "output_type": "execute_result",
                    "data": {
                        "text/plain": [
                            "⌠           \n",
                            "⎮     ___   \n",
                            "⎮    ╱ 1    \n",
                            "⎮   ╱  ─  dx\n",
                            "⎮ ╲╱   x    \n",
                            "⌡           "
                        ],
                        "image/png": "[encoded data removed]",
                        "text/latex": [
                            "$\\displaystyle \\int \\sqrt{\\frac{1}{x}}\\, dx$"
                        ]
                    },
                    "metadata": {},
                    "execution_count": 4
                }
            ],
            "metadata": {}
        },
        {
            "cell_type": "markdown",
            "source": [],
            "metadata": {}
        }
    ],
    "metadata": {
        "orig_nbformat": 4,
        "language_info": {
            "name": "python",
            "version": "3.9.6",
            "mimetype": "text/x-python",
            "codemirror_mode": {
                "name": "ipython",
                "version": 3
            },
            "pygments_lexer": "ipython3",
            "nbconvert_exporter": "python",
            "file_extension": ".py"
        },
        "kernelspec": {
            "name": "python3",
            "display_name": "Python 3.9.6 64-bit"
        },
        "interpreter": {
            "hash": "11f1dc213e07634baa4c5c321dec03c05dafae643c50f20e6d1a492290c05dc2"
        }
    },
    "nbformat": 4,
    "nbformat_minor": 2
}