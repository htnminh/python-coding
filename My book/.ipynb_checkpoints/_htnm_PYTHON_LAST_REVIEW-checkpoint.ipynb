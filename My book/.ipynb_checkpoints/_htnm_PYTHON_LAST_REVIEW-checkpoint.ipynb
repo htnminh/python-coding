{
 "cells": [
  {
   "cell_type": "markdown",
   "metadata": {
    "id": "yHHAn28X7TPx"
   },
   "source": [
    "# **INTRODUCTION TO PROGRAMMING REVIEW**\n",
    "***Written by Hoang Tran Nhat Minh,***\n",
    "\n",
    "Hanoi University of Science and Technology,\n",
    "\n",
    "Data Science and Artificial Intelligence - K65.\n",
    "\n",
    "**Guided by Dr. Dinh Viet Sang.**"
   ]
  },
  {
   "cell_type": "markdown",
   "metadata": {
    "id": "51bJZ42gNjOY"
   },
   "source": [
    "## PREFACE"
   ]
  },
  {
   "cell_type": "markdown",
   "metadata": {
    "id": "1GRT5C67N4dv"
   },
   "source": [
    "**Thank you, my teacher, Dr. Dinh Viet Sang, I cannot learn programming in Python that much without you. This notebook uses your lectures as a guidance.**\n",
    "\n",
    "*Dear Data Science & AI - K65,*\n",
    "\n",
    "This is my last notebook in order to prepare for the final exam on Introduction to Programming. If you find this notebook helpful, thanks for reading it. Some might find this one not that helpful, I highly appreciate every line of text you read, including this one.\n",
    "\n",
    "If you find any mistake, feedback and I will try to fix it ASAP.\n",
    "\n",
    "Thank y'all for supporting me all the time, good luck on all of your exams.\n",
    "\n",
    "Best wishes,\n",
    "\n",
    "*Hoang Tran Nhat Minh.*\n",
    "\n"
   ]
  },
  {
   "cell_type": "markdown",
   "metadata": {
    "id": "PVb9I_8fKP1O"
   },
   "source": [
    "## MY CODES FOR ALL EXERCISES AND THIS NOTEBOOK"
   ]
  },
  {
   "cell_type": "markdown",
   "metadata": {
    "id": "w0aNIZrANosW"
   },
   "source": [
    "SOME OF THE FOLLOWING CONTENTS MIGHT BE ADJUSTED OVER TIME.\n",
    "\n",
    "MY CODES FOR ALL EXERCISES:\n",
    "\n",
    "[https://drive.google.com/drive/folders/1_a7_Ng4pxP_acvmSfeJDmFlpJkbV07X1?usp=sharing](https://drive.google.com/drive/folders/1_a7_Ng4pxP_acvmSfeJDmFlpJkbV07X1?usp=sharing)\n",
    "\n",
    "THIS NOTEBOOK:\n",
    "\n",
    "[https://colab.research.google.com/drive/1mjtoDbqNHKB2bAb6rTUU8hiJRfUX3Ryt?usp=sharing](https://colab.research.google.com/drive/1mjtoDbqNHKB2bAb6rTUU8hiJRfUX3Ryt?usp=sharing)"
   ]
  },
  {
   "cell_type": "markdown",
   "metadata": {
    "id": "2BBi9dSe7Zx1"
   },
   "source": [
    "# CHAPTER 1: INTRODUCTION"
   ]
  },
  {
   "cell_type": "markdown",
   "metadata": {
    "id": "DHF53f3hKZnr"
   },
   "source": [
    "## CONSTANTS"
   ]
  },
  {
   "cell_type": "code",
   "execution_count": 1,
   "metadata": {
    "colab": {
     "base_uri": "https://localhost:8080/"
    },
    "id": "WE_EM8mVGXmo",
    "outputId": "3cbf5987-92cc-44eb-8e9e-0f20618a320c"
   },
   "outputs": [
    {
     "name": "stdout",
     "output_type": "stream",
     "text": [
      "Hello World\n",
      "12.3\n"
     ]
    }
   ],
   "source": [
    "# CONSTANTS\n",
    "print('Hello World')\n",
    "print(12.3)"
   ]
  },
  {
   "cell_type": "markdown",
   "metadata": {
    "id": "oHieA5AuKcul"
   },
   "source": [
    "## VARIABLES"
   ]
  },
  {
   "cell_type": "code",
   "execution_count": 2,
   "metadata": {
    "colab": {
     "base_uri": "https://localhost:8080/"
    },
    "id": "7GtXuE7qIJX_",
    "outputId": "dbb777c5-770a-4b8d-87ef-5365c6d665c4"
   },
   "outputs": [
    {
     "name": "stdout",
     "output_type": "stream",
     "text": [
      "Hello\n",
      "4.3\n"
     ]
    }
   ],
   "source": [
    "# VARIABLES\n",
    "x = 13.4\n",
    "y = 4.3\n",
    "x = 'Hello'\n",
    "print(x)\n",
    "print(y)"
   ]
  },
  {
   "cell_type": "markdown",
   "metadata": {
    "id": "JDnVJrVqKiM1"
   },
   "source": [
    "## NUMERIC OPERATORS"
   ]
  },
  {
   "cell_type": "code",
   "execution_count": 3,
   "metadata": {
    "colab": {
     "base_uri": "https://localhost:8080/"
    },
    "id": "sGfQ8qzTIX0w",
    "outputId": "0e876fea-ef92-4165-9516-e36d022518a2"
   },
   "outputs": [
    {
     "name": "stdout",
     "output_type": "stream",
     "text": [
      "279.5084971874737\n",
      "3.8\n",
      "3\n",
      "4\n"
     ]
    }
   ],
   "source": [
    "# NUMERIC OPERATORS\n",
    "print(5 ** 3.5)\n",
    "print(19 / 5)\n",
    "print(19 // 5)\n",
    "print(19 % 5)"
   ]
  },
  {
   "cell_type": "markdown",
   "metadata": {
    "id": "3pd-Nv4bKl1O"
   },
   "source": [
    "## SCIENTIFIC NOTATION"
   ]
  },
  {
   "cell_type": "code",
   "execution_count": 4,
   "metadata": {
    "colab": {
     "base_uri": "https://localhost:8080/"
    },
    "id": "iX0OuOZ6JDVA",
    "outputId": "63978ab3-301b-41b6-8fe0-a408e2cd6718"
   },
   "outputs": [
    {
     "name": "stdout",
     "output_type": "stream",
     "text": [
      "123.4\n",
      "123.4\n",
      "0.001234\n"
     ]
    }
   ],
   "source": [
    "# SCIENTIFIC NOTATION\n",
    "print(1.234e2)\n",
    "print(1.234E+2)\n",
    "print(1.234e-3)"
   ]
  },
  {
   "cell_type": "markdown",
   "metadata": {
    "id": "gpHNuVBtKpEF"
   },
   "source": [
    "## INT AND FLOAT"
   ]
  },
  {
   "cell_type": "code",
   "execution_count": 5,
   "metadata": {
    "colab": {
     "base_uri": "https://localhost:8080/"
    },
    "id": "6yLoagkwJ_6o",
    "outputId": "d130cf13-bbf5-4c15-fe26-909f806cb7c8"
   },
   "outputs": [
    {
     "name": "stdout",
     "output_type": "stream",
     "text": [
      "6.3\n",
      "1.0\n",
      "8\n"
     ]
    }
   ],
   "source": [
    "# INT AND FLOAT\n",
    "print(1 + 5.3)\n",
    "print(5 / 5)\n",
    "print(3 + 5)"
   ]
  },
  {
   "cell_type": "markdown",
   "metadata": {
    "id": "tOqRJATeKswH"
   },
   "source": [
    "## TYPES"
   ]
  },
  {
   "cell_type": "code",
   "execution_count": 6,
   "metadata": {
    "colab": {
     "base_uri": "https://localhost:8080/"
    },
    "id": "1PVKKLLLKb_Q",
    "outputId": "1927b02f-2730-4f02-80c9-75f04f102c48"
   },
   "outputs": [
    {
     "name": "stdout",
     "output_type": "stream",
     "text": [
      "9\n",
      "hello there\n",
      "<class 'float'>\n",
      "<class 'str'>\n",
      "3.0\n",
      "45\n",
      "8\n"
     ]
    }
   ],
   "source": [
    "# TYPES\n",
    "print(3 + 6)\n",
    "print('hello' + ' there')\n",
    "\n",
    "print(type(3.5))\n",
    "print(type('?'))\n",
    "\n",
    "print(float(3))\n",
    "print(str(4) + str(5))\n",
    "print(int('8'))"
   ]
  },
  {
   "cell_type": "markdown",
   "metadata": {
    "id": "gwodJRIHK6Ir"
   },
   "source": [
    "## (INPUT) TYPE DIFFERENCES"
   ]
  },
  {
   "cell_type": "code",
   "execution_count": 7,
   "metadata": {
    "colab": {
     "base_uri": "https://localhost:8080/"
    },
    "id": "2ExwCiCpLWp3",
    "outputId": "4011d7cb-8d57-4aca-83c8-b60c6963f68e"
   },
   "outputs": [
    {
     "name": "stdout",
     "output_type": "stream",
     "text": [
      "a = 8\n",
      "88888\n",
      "40\n"
     ]
    }
   ],
   "source": [
    "# TYPE DIFFERENCES\n",
    "a = input('a = ')\n",
    "print(a * 5)\n",
    "print(int(a) * 5)"
   ]
  },
  {
   "cell_type": "markdown",
   "metadata": {
    "id": "YFq4ThmwKwcO"
   },
   "source": [
    "## (INPUT) FILE NAME"
   ]
  },
  {
   "cell_type": "code",
   "execution_count": 8,
   "metadata": {
    "colab": {
     "base_uri": "https://localhost:8080/"
    },
    "id": "TsRV90fKLggo",
    "outputId": "573c31af-ab1d-46df-a67d-97a21987efeb"
   },
   "outputs": [
    {
     "name": "stdout",
     "output_type": "stream",
     "text": [
      "Name = /content/sample_data/README.md\n",
      "This directory includes a few sample datasets to get you started.\n",
      "\n",
      "*   `california_housing_data*.csv` is California housing data from the 1990 US\n",
      "    Census; more information is available at:\n",
      "    https://developers.google.com/machine-learning/crash-course/california-housing-data-description\n",
      "\n",
      "*   `mnist_*.csv` is a small sample of the\n",
      "    [MNIST database](https://en.wikipedia.org/wiki/MNIST_database), which is\n",
      "    described at: http://yann.lecun.com/exdb/mnist/\n",
      "\n",
      "*   `anscombe.json` contains a copy of\n",
      "    [Anscombe's quartet](https://en.wikipedia.org/wiki/Anscombe%27s_quartet); it\n",
      "    was originally described in\n",
      "\n",
      "    Anscombe, F. J. (1973). 'Graphs in Statistical Analysis'. American\n",
      "    Statistician. 27 (1): 17-21. JSTOR 2682899.\n",
      "\n",
      "    and our copy was prepared by the\n",
      "    [vega_datasets library](https://github.com/altair-viz/vega_datasets/blob/4f67bdaad10f45e3549984e17e1b3088c731503d/vega_datasets/_data/anscombe.json).\n",
      "\n"
     ]
    }
   ],
   "source": [
    "# FILE NAME\n",
    "name = input('Name = ')\n",
    "#/content/sample_data/README.md\n",
    "f = open(name, 'r')\n",
    "print(f.read())\n",
    "f.close()"
   ]
  },
  {
   "cell_type": "markdown",
   "metadata": {
    "id": "xTFbp-9eNm-p"
   },
   "source": [
    "# CHAPTER 2: CONTROL FLOW"
   ]
  },
  {
   "cell_type": "markdown",
   "metadata": {
    "id": "3_11s2BKLEDd"
   },
   "source": [
    "## COMPARISON OPERATORS"
   ]
  },
  {
   "cell_type": "code",
   "execution_count": 9,
   "metadata": {
    "colab": {
     "base_uri": "https://localhost:8080/"
    },
    "id": "jm80DA7LN2NB",
    "outputId": "f8cb507b-57ed-4f0f-8ce2-48ec1a689f68"
   },
   "outputs": [
    {
     "name": "stdout",
     "output_type": "stream",
     "text": [
      "False\n",
      "True\n",
      "True\n",
      "False\n"
     ]
    }
   ],
   "source": [
    "# COMPARISON OPERATORS\n",
    "print(3 == 4)\n",
    "print(3 != 4)\n",
    "print(3 < 4)\n",
    "print(3 >= 4)"
   ]
  },
  {
   "cell_type": "markdown",
   "metadata": {
    "id": "mF9tfmVcLFzc"
   },
   "source": [
    "## LOGIC OPERATORS"
   ]
  },
  {
   "cell_type": "code",
   "execution_count": 10,
   "metadata": {
    "colab": {
     "base_uri": "https://localhost:8080/"
    },
    "id": "1IqaaB8YPdMo",
    "outputId": "9fdd8322-97b9-4dd3-a913-9c9ebd4fca9b"
   },
   "outputs": [
    {
     "name": "stdout",
     "output_type": "stream",
     "text": [
      "True\n",
      "False\n",
      "True\n"
     ]
    }
   ],
   "source": [
    "# LOGIC OPERATORS\n",
    "print(not False)\n",
    "print(True and False)\n",
    "print(True or False)"
   ]
  },
  {
   "cell_type": "markdown",
   "metadata": {
    "id": "gMFHOZ47LH3M"
   },
   "source": [
    "## (INPUT) BRANCHING"
   ]
  },
  {
   "cell_type": "code",
   "execution_count": 11,
   "metadata": {
    "colab": {
     "base_uri": "https://localhost:8080/"
    },
    "id": "WDxV4e8bPtQQ",
    "outputId": "a29a60b3-5159-4d98-e0ad-d7093d506a7a"
   },
   "outputs": [
    {
     "name": "stdout",
     "output_type": "stream",
     "text": [
      "a = 3\n",
      "b = 5\n",
      "less\n"
     ]
    }
   ],
   "source": [
    "# BRANCHING\n",
    "a = int(input('a = '))\n",
    "b = int(input('b = '))\n",
    "if a > b:\n",
    "    print('larger')\n",
    "elif a == b:\n",
    "    print('equal')\n",
    "else:\n",
    "    print('less')"
   ]
  },
  {
   "cell_type": "markdown",
   "metadata": {
    "id": "484ue29hSX9h"
   },
   "source": [
    "# CHAPTER 3: FUNCTIONS"
   ]
  },
  {
   "cell_type": "markdown",
   "metadata": {
    "id": "G1-Wx0mlLLvl"
   },
   "source": [
    "## FUNCTION EXAMPLE"
   ]
  },
  {
   "cell_type": "code",
   "execution_count": 12,
   "metadata": {
    "colab": {
     "base_uri": "https://localhost:8080/"
    },
    "id": "mUgVinH7Sjs4",
    "outputId": "aa1e46a8-8237-4137-c734-a2a3c4ad81f7"
   },
   "outputs": [
    {
     "name": "stdout",
     "output_type": "stream",
     "text": [
      "16\n",
      "\n",
      "    2 times a number\n",
      "    \n"
     ]
    }
   ],
   "source": [
    "# FUNCTION EXAMPLE\n",
    "\n",
    "#   name    parameter(s)\n",
    "def two_time(number):\n",
    "    # docstring\n",
    "    '''\n",
    "    2 times a number\n",
    "    '''\n",
    "    # body\n",
    "    doubled = 2 * number\n",
    "    # returns (if not, it is a void function)\n",
    "    return doubled\n",
    "# function call, pass argument(s) to parameter(s)\n",
    "print(two_time(8))\n",
    "\n",
    "print(two_time.__doc__)"
   ]
  },
  {
   "cell_type": "markdown",
   "metadata": {
    "id": "-eX6L98wLRQd"
   },
   "source": [
    "## COMMON BUILT-IN PYTHON FUNCTIONS"
   ]
  },
  {
   "cell_type": "code",
   "execution_count": 13,
   "metadata": {
    "colab": {
     "base_uri": "https://localhost:8080/"
    },
    "id": "P7KtieS1UlxB",
    "outputId": "5886d685-d6b6-4e92-d0f7-2f28f8ba3b2b"
   },
   "outputs": [
    {
     "name": "stdout",
     "output_type": "stream",
     "text": [
      "8\n",
      "3\n"
     ]
    }
   ],
   "source": [
    "# COMMON BUILT-IN PYTHON FUNCTIONS\n",
    "# previous ones: input(), type(), float(),...\n",
    "print(max(6, 8, 5))\n",
    "print(min(3, 6, 7))"
   ]
  },
  {
   "cell_type": "markdown",
   "metadata": {
    "id": "QdQL5KG6LVdU"
   },
   "source": [
    "## PASS-BY-OBJECT-REFERENCE"
   ]
  },
  {
   "cell_type": "code",
   "execution_count": 14,
   "metadata": {
    "colab": {
     "base_uri": "https://localhost:8080/"
    },
    "id": "YCG2_l88Vyep",
    "outputId": "facfcbd7-386b-4aea-ae51-b513dd857933"
   },
   "outputs": [
    {
     "name": "stdout",
     "output_type": "stream",
     "text": [
      "4\n",
      "4\n",
      "['original']\n",
      "['original', 'changed']\n"
     ]
    }
   ],
   "source": [
    "# PASS-BY-OBJECT-REFERENCE\n",
    "# Immutable objects: int, float, complex, string, tuple, frozen set, bytes\n",
    "# Mutable objects: list, dict, set, byte array\n",
    "\n",
    "def change_num(num):\n",
    "    num += 1\n",
    "a = 4\n",
    "print(a)\n",
    "change_num(a)\n",
    "print(a)\n",
    "\n",
    "def change_lst(lst):\n",
    "    lst.append('changed')\n",
    "l = ['original']\n",
    "print(l)\n",
    "change_lst(l)\n",
    "print(l)"
   ]
  },
  {
   "cell_type": "markdown",
   "metadata": {
    "id": "sYVR_M2QLXSV"
   },
   "source": [
    "## SCOPE"
   ]
  },
  {
   "cell_type": "code",
   "execution_count": 15,
   "metadata": {
    "colab": {
     "base_uri": "https://localhost:8080/"
    },
    "id": "-oYQNgGGdh1k",
    "outputId": "0e8647ac-bd49-4b35-8350-51fd04920a92"
   },
   "outputs": [
    {
     "name": "stdout",
     "output_type": "stream",
     "text": [
      "First:   x = 0\n",
      "In f:    x = 1\n",
      "After f: x = 0\n"
     ]
    }
   ],
   "source": [
    "# SCOPE\n",
    "def f(x):\n",
    "    x += 1\n",
    "    print('In f:    x =',x)\n",
    "x = 0\n",
    "print('First:   x =', x)\n",
    "f(x)\n",
    "print('After f: x =', x)"
   ]
  },
  {
   "cell_type": "markdown",
   "metadata": {
    "id": "TaAgUlL6LY2M"
   },
   "source": [
    "## FUNCTIONS AS ARGUMENTS"
   ]
  },
  {
   "cell_type": "code",
   "execution_count": 16,
   "metadata": {
    "colab": {
     "base_uri": "https://localhost:8080/"
    },
    "id": "wYIGUnL0foMr",
    "outputId": "f0a4982d-13b3-4da1-957e-c18b8edbbf43"
   },
   "outputs": [
    {
     "name": "stdout",
     "output_type": "stream",
     "text": [
      "79\n",
      "79\n"
     ]
    }
   ],
   "source": [
    "# FUNCTIONS AS ARGUMENTS\n",
    "def triple(num):\n",
    "    return 3 * num\n",
    "def square(num):\n",
    "    return num ** 2\n",
    "\n",
    "def fx_plus_gy(f, x, g, y):\n",
    "    return f(x) + g(y)\n",
    "\n",
    "print(fx_plus_gy(triple, 5, square, 8))\n",
    "print(3 * 5 + 8 ** 2)"
   ]
  },
  {
   "cell_type": "markdown",
   "metadata": {
    "id": "uJA2eC52LaqM"
   },
   "source": [
    "##  DEFAULT PARAMETER VALUE"
   ]
  },
  {
   "cell_type": "code",
   "execution_count": 17,
   "metadata": {
    "colab": {
     "base_uri": "https://localhost:8080/"
    },
    "id": "C1VAds4Widl7",
    "outputId": "dbdf8d71-2257-4dde-bcdf-25340d7ff0f5"
   },
   "outputs": [
    {
     "name": "stdout",
     "output_type": "stream",
     "text": [
      "6\n",
      "8\n",
      "9\n"
     ]
    }
   ],
   "source": [
    "# DEFAULT PARAMETER VALUE\n",
    "def tong(a, b = 2, c = 3):\n",
    "    return a + b + c\n",
    "\n",
    "print(tong(1))\n",
    "# 1 + 2 + 3\n",
    "print(tong(1, 4))\n",
    "# 1 + 4 + 3\n",
    "print(tong(0, 3, 6))\n",
    "# 0 + 3 + 6"
   ]
  },
  {
   "cell_type": "markdown",
   "metadata": {
    "id": "Miim09wtLcJ0"
   },
   "source": [
    "##  LAMBDA FUNCTION"
   ]
  },
  {
   "cell_type": "code",
   "execution_count": 18,
   "metadata": {
    "colab": {
     "base_uri": "https://localhost:8080/"
    },
    "id": "6XBjOWnAjPts",
    "outputId": "c56216e4-1634-421f-8cc8-6fd388f21c68"
   },
   "outputs": [
    {
     "name": "stdout",
     "output_type": "stream",
     "text": [
      "8\n",
      "18\n"
     ]
    }
   ],
   "source": [
    "# LAMBDA FUNCTION\n",
    "tong = lambda x, y: x + y\n",
    "print(tong(3, 5))\n",
    "print((lambda x, y: x * y)(2, 9))"
   ]
  },
  {
   "cell_type": "markdown",
   "metadata": {
    "id": "UuxNIR1fLeKs"
   },
   "source": [
    "###  LAMBDA EXAMPLE"
   ]
  },
  {
   "cell_type": "code",
   "execution_count": 19,
   "metadata": {
    "colab": {
     "base_uri": "https://localhost:8080/"
    },
    "id": "ar3ikJrYjseL",
    "outputId": "30bcc1a9-0334-469f-ba69-9bf3a0d96893"
   },
   "outputs": [
    {
     "name": "stdout",
     "output_type": "stream",
     "text": [
      "32\n",
      "12\n"
     ]
    }
   ],
   "source": [
    "# LAMBDA EXAMPLE\n",
    "def multiply_by(n):\n",
    "    return lambda x: x * n\n",
    "\n",
    "double = multiply_by(2)\n",
    "# multiply_by(2) ->  lambda x: x * 2\n",
    "# -> a doubling function\n",
    "triple = multiply_by(3)\n",
    "\n",
    "print(double(16))\n",
    "print(triple(4))"
   ]
  },
  {
   "cell_type": "markdown",
   "metadata": {
    "id": "TsHmDufFLg9E"
   },
   "source": [
    "###  TEST: WITHOUT LAMBDA"
   ]
  },
  {
   "cell_type": "code",
   "execution_count": 20,
   "metadata": {
    "colab": {
     "base_uri": "https://localhost:8080/"
    },
    "id": "xcpRd19ekNGU",
    "outputId": "5b72d5e8-5719-4aff-c00d-14f1e657bda0"
   },
   "outputs": [
    {
     "name": "stdout",
     "output_type": "stream",
     "text": [
      "32\n",
      "12\n"
     ]
    }
   ],
   "source": [
    "# TEST: WITHOUT LAMBDA\n",
    "def multiply_by(n):\n",
    "    def multi(x):\n",
    "        return x * n\n",
    "    return multi\n",
    "\n",
    "double = multiply_by(2)\n",
    "# multiply_by(2) -> function: multi, where multi return the doubled argument\n",
    "# -> a doubling function\n",
    "triple = multiply_by(3)\n",
    "\n",
    "print(double(16))\n",
    "print(triple(4))"
   ]
  },
  {
   "cell_type": "markdown",
   "metadata": {
    "id": "kdjmVlTELie9"
   },
   "source": [
    "### LAMBDA EXAMPLE"
   ]
  },
  {
   "cell_type": "code",
   "execution_count": 21,
   "metadata": {
    "colab": {
     "base_uri": "https://localhost:8080/"
    },
    "id": "G7Uzfy6ynFeU",
    "outputId": "5f901548-ebeb-44c4-c1e5-54acc7189eed"
   },
   "outputs": [
    {
     "name": "stdout",
     "output_type": "stream",
     "text": [
      "12\n"
     ]
    }
   ],
   "source": [
    "# LAMBDA EXAMPLE\n",
    "x_plus_fx = lambda x, f: x + f(x)\n",
    "\n",
    "print(x_plus_fx(3, lambda x: x ** 2))\n",
    "# x + f(x) = x + x ** 2\n",
    "# 3 + f(3) = 3 + 3 ** 2"
   ]
  },
  {
   "cell_type": "markdown",
   "metadata": {
    "id": "Oz0VdEQzLk6W"
   },
   "source": [
    "## RECURSION EXAMPLES"
   ]
  },
  {
   "cell_type": "code",
   "execution_count": 22,
   "metadata": {
    "colab": {
     "base_uri": "https://localhost:8080/"
    },
    "id": "VhVkrvzfoZc8",
    "outputId": "01c1e37b-64d1-42de-9199-f77c7d6b9422"
   },
   "outputs": [
    {
     "name": "stdout",
     "output_type": "stream",
     "text": [
      "7! = 6! * 7\n",
      "6! = 5! * 6\n",
      "5! = 4! * 5\n",
      "4! = 3! * 4\n",
      "3! = 2! * 3\n",
      "2! = 1! * 2\n",
      "1! = 0! * 1\n",
      "0! = 1\n",
      "5040\n"
     ]
    }
   ],
   "source": [
    "# RECURSION EXAMPLES\n",
    "def pr(n):\n",
    "    print(str(n) + '! = ' + str(n - 1) + '! * ' + str(n))\n",
    "\n",
    "def factorial(n):\n",
    "    if n == 0:\n",
    "        print('0! = 1')\n",
    "        return 1\n",
    "    pr(n)\n",
    "    return factorial(n - 1) * n\n",
    "\n",
    "print(factorial(7))"
   ]
  },
  {
   "cell_type": "markdown",
   "metadata": {
    "id": "hV_svzDALoVO"
   },
   "source": [
    "###  FACTORIAL RECURSION IN SHORT"
   ]
  },
  {
   "cell_type": "code",
   "execution_count": 23,
   "metadata": {
    "colab": {
     "base_uri": "https://localhost:8080/"
    },
    "id": "2yw72lgXqtvs",
    "outputId": "2eab2129-c029-4fe9-beac-8e078a58859a"
   },
   "outputs": [
    {
     "name": "stdout",
     "output_type": "stream",
     "text": [
      "5040\n"
     ]
    }
   ],
   "source": [
    "# FACTORIAL RECURSION IN SHORT\n",
    "factorial = lambda n: 1 if n == 0 else factorial(n - 1) * n\n",
    "print(factorial(7))"
   ]
  },
  {
   "cell_type": "markdown",
   "metadata": {
    "id": "1R_WJFS8Lpx9"
   },
   "source": [
    "### FIBONACCI RECURSION IN SHORT"
   ]
  },
  {
   "cell_type": "code",
   "execution_count": 24,
   "metadata": {
    "colab": {
     "base_uri": "https://localhost:8080/"
    },
    "id": "_JXLedW4zlpK",
    "outputId": "9b51afed-78e1-4b59-f64f-af2a5a711a7b"
   },
   "outputs": [
    {
     "name": "stdout",
     "output_type": "stream",
     "text": [
      "0 1 1 2 3 5 8 13 21 34 55 89 144 233 377\n"
     ]
    }
   ],
   "source": [
    "# FIBONACCI RECURSION IN SHORT\n",
    "fib = lambda n: n if n <= 1 else fib(n - 1) + fib(n - 2)\n",
    "print(*[fib(i) for i in range(15)])"
   ]
  },
  {
   "cell_type": "markdown",
   "metadata": {
    "id": "6XYgaqc_1qOB"
   },
   "source": [
    "### (INPUT) (WARNING: WALL-OF-CODE) TOWER OF HANOI: TRADITIONAL RECURSION PROBLEM"
   ]
  },
  {
   "cell_type": "code",
   "execution_count": 25,
   "metadata": {
    "colab": {
     "base_uri": "https://localhost:8080/"
    },
    "id": "poyxAJR2w287",
    "outputId": "426eab64-3a8a-484c-d8cb-ed874def8dc3"
   },
   "outputs": [
    {
     "name": "stdout",
     "output_type": "stream",
     "text": [
      "n = 3\n",
      "\n",
      "|  A  B  C  |\n",
      "|  1  .  .  |\n",
      "|  2  .  .  |\n",
      "|  3  .  .  |\n",
      "                  Step 1: A -> C\n",
      "|  A  B  C  |\n",
      "|  .  .  .  |\n",
      "|  2  .  .  |\n",
      "|  3  .  1  |\n",
      "                  Step 2: A -> B\n",
      "|  A  B  C  |\n",
      "|  .  .  .  |\n",
      "|  .  .  .  |\n",
      "|  3  2  1  |\n",
      "                  Step 3: C -> B\n",
      "|  A  B  C  |\n",
      "|  .  .  .  |\n",
      "|  .  1  .  |\n",
      "|  3  2  .  |\n",
      "                  Step 4: A -> C\n",
      "|  A  B  C  |\n",
      "|  .  .  .  |\n",
      "|  .  1  .  |\n",
      "|  .  2  3  |\n",
      "                  Step 5: B -> A\n",
      "|  A  B  C  |\n",
      "|  .  .  .  |\n",
      "|  .  .  .  |\n",
      "|  1  2  3  |\n",
      "                  Step 6: B -> C\n",
      "|  A  B  C  |\n",
      "|  .  .  .  |\n",
      "|  .  .  2  |\n",
      "|  1  .  3  |\n",
      "                  Step 7: A -> C\n",
      "|  A  B  C  |\n",
      "|  .  .  1  |\n",
      "|  .  .  2  |\n",
      "|  .  .  3  |\n",
      "\n",
      "Number of transfers: 7\n"
     ]
    }
   ],
   "source": [
    "# TOWER OF HANOI: TRADITIONAL RECURSION PROBLEM\n",
    "# EXPLICITLY VISUALIZED CODE\n",
    "def hanoi_tower(n):\n",
    "    '''run and return number of transfers as text'''\n",
    "    def transfer(n, start, end, mid):\n",
    "        if n == 1:\n",
    "            nonlocal count\n",
    "            count += 1\n",
    "            map_ind = ['A', 'B', 'C']\n",
    "            print(' '*18 + 'Step ' + str(count) + ': ' + map_ind[start] + ' -> ' + map_ind[end])\n",
    "            move(start, end)\n",
    "            print_board()\n",
    "        else:\n",
    "            transfer(n - 1, start, mid, end)\n",
    "            transfer(1, start, end, mid)\n",
    "            transfer(n - 1, mid, end, start)\n",
    "    count = 0\n",
    "    transfer(n, 0, 2, 1)\n",
    "    return count\n",
    "\n",
    "'''\n",
    "a =                     \n",
    "      0  1  2  3                    \n",
    "\n",
    "0     4  3  2  1                    \n",
    "1     0  0  0  0                    \n",
    "2     0  0  0  0\n",
    "\n",
    "printed :\n",
    "                A  B  C\n",
    "\n",
    "                1  .  .\n",
    "                2  .  .\n",
    "                3  .  .\n",
    "                4  .  .\n",
    "'''\n",
    "def print_board():\n",
    "    '''print current board'''\n",
    "    print('|  A  B  C  |')\n",
    "    \n",
    "    for col in range(n - 1, -1, -1):\n",
    "        print('|  ', end = '')\n",
    "        for row in range(3):\n",
    "            character = '.' if a[row][col] == 0 else a[row][col]\n",
    "            print(str(character) + '  ', end = '')\n",
    "        print('|')\n",
    "        \n",
    "\n",
    "def move(row_start, row_end):\n",
    "    '''make a move'''\n",
    "    def col_lastnonenull(row):\n",
    "        for col_ind in range(n - 1, -1, -1):\n",
    "            if a[row][col_ind] != 0:\n",
    "                return col_ind\n",
    "            # return n - 1\n",
    "    def col_firstnull(row):\n",
    "        for col_ind in range(n):\n",
    "            if a[row][col_ind] == 0:\n",
    "                return col_ind\n",
    "            # return 0\n",
    "    a[row_end][col_firstnull(row_end)] = a[row_start][col_lastnonenull(row_start)]\n",
    "    a[row_start][col_lastnonenull(row_start)] = 0\n",
    "\n",
    "# MAIN:\n",
    "\n",
    "# input n\n",
    "n = int(input('n = '))\n",
    "\n",
    "# initialize list of list, n = 4, \n",
    "'''\n",
    "a =\n",
    "      0  1  2  3\n",
    "      \n",
    "0     4  3  2  1\n",
    "1     0  0  0  0\n",
    "2     0  0  0  0\n",
    "'''\n",
    "a = [[n - i for i in range(n)]]\n",
    "for i in range(2):\n",
    "    a.append([0 for j in range(n)])\n",
    "    \n",
    "# print the initialized board\n",
    "print()\n",
    "print_board()\n",
    "\n",
    "# run, print the board every move and return the result\n",
    "print('\\nNumber of transfers: %i' % hanoi_tower(n))\n",
    "\n",
    "# n SHOULD BE LESS THAN 5"
   ]
  },
  {
   "cell_type": "markdown",
   "metadata": {
    "id": "xt3pT21_1hvi"
   },
   "source": [
    "# CHAPTER 4: STRINGS"
   ]
  },
  {
   "cell_type": "markdown",
   "metadata": {
    "id": "wm6XN6ThL9_0"
   },
   "source": [
    "## STRING EXAMPLES"
   ]
  },
  {
   "cell_type": "code",
   "execution_count": 26,
   "metadata": {
    "colab": {
     "base_uri": "https://localhost:8080/"
    },
    "id": "z0GumIEO1nSD",
    "outputId": "64bddf17-625e-4c02-8e92-26f8dfd0334d"
   },
   "outputs": [
    {
     "name": "stdout",
     "output_type": "stream",
     "text": [
      "abc\n"
     ]
    }
   ],
   "source": [
    "# STRING EXAMPLES\n",
    "print('abc')"
   ]
  },
  {
   "cell_type": "markdown",
   "metadata": {
    "id": "MXaP5ypAL_JV"
   },
   "source": [
    "## `len()` OF A STRING"
   ]
  },
  {
   "cell_type": "code",
   "execution_count": 27,
   "metadata": {
    "colab": {
     "base_uri": "https://localhost:8080/"
    },
    "id": "ZW-nsEKe3NyR",
    "outputId": "da23b5f4-047e-4d5a-aeb7-ff1b4e7fef1f"
   },
   "outputs": [
    {
     "name": "stdout",
     "output_type": "stream",
     "text": [
      "16\n"
     ]
    }
   ],
   "source": [
    "# LEN OF A STRING\n",
    "print(len('this is a string'))"
   ]
  },
  {
   "cell_type": "markdown",
   "metadata": {
    "id": "KmuJc-FcMBuU"
   },
   "source": [
    "## LOOP OVER A STRING"
   ]
  },
  {
   "cell_type": "code",
   "execution_count": 28,
   "metadata": {
    "colab": {
     "base_uri": "https://localhost:8080/"
    },
    "id": "dwvG48DQ3Veg",
    "outputId": "054f2442-f7ee-4ce2-e278-1fe5815e6b71"
   },
   "outputs": [
    {
     "name": "stdout",
     "output_type": "stream",
     "text": [
      "h\n",
      "i\n",
      " \n",
      "t\n",
      "h\n",
      "e\n",
      "r\n",
      "e\n",
      "?\n"
     ]
    }
   ],
   "source": [
    "# LOOP OVER A STRING\n",
    "for c in 'hi there?':\n",
    "    print(c)"
   ]
  },
  {
   "cell_type": "markdown",
   "metadata": {
    "id": "EuZeCIV2MDkc"
   },
   "source": [
    "##  SLICING A STRING"
   ]
  },
  {
   "cell_type": "code",
   "execution_count": 29,
   "metadata": {
    "colab": {
     "base_uri": "https://localhost:8080/"
    },
    "id": "H2fir_Eb34Df",
    "outputId": "70804b7a-da67-45f5-e0aa-f3f499ab694f"
   },
   "outputs": [
    {
     "name": "stdout",
     "output_type": "stream",
     "text": [
      "c\n",
      "npq\n",
      "hello\n"
     ]
    }
   ],
   "source": [
    "# SLICING A STRING\n",
    "print('abcd'[2])\n",
    "print('mnpq'[1:])\n",
    "print('hello from the other side'[:5])"
   ]
  },
  {
   "cell_type": "markdown",
   "metadata": {
    "id": "PvTI8RLbMF0M"
   },
   "source": [
    "## STRING FORMATTING OPERATOR `%`"
   ]
  },
  {
   "cell_type": "code",
   "execution_count": 30,
   "metadata": {
    "colab": {
     "base_uri": "https://localhost:8080/"
    },
    "id": "YbdM3jFJ4Mow",
    "outputId": "49002f42-6d7f-406b-f301-731cf7123f79"
   },
   "outputs": [
    {
     "name": "stdout",
     "output_type": "stream",
     "text": [
      "gold is a metal\n",
      "yellow is a color of 7 main colors in a rainbow!\n"
     ]
    }
   ],
   "source": [
    "# STRING FORMATTING OPERATOR %\n",
    "print('%s is a metal' % 'gold')\n",
    "\n",
    "color = 'yellow'\n",
    "num = 7\n",
    "print( '%s is a color of %d main colors in a rainbow!' % (color, num) )\n",
    "\n",
    "# %s string | %c char | %d decimal | %i integer | %f float"
   ]
  },
  {
   "cell_type": "markdown",
   "metadata": {
    "id": "Pm4-x9PQMNCE"
   },
   "source": [
    "###  STRING FORMATTING OPERATOR `%` EXAMPLE"
   ]
  },
  {
   "cell_type": "code",
   "execution_count": 31,
   "metadata": {
    "colab": {
     "base_uri": "https://localhost:8080/"
    },
    "id": "tYijrN6R4y-I",
    "outputId": "2357b39b-538e-4838-bcf1-7697e7c14187"
   },
   "outputs": [
    {
     "name": "stdout",
     "output_type": "stream",
     "text": [
      "3.90\n"
     ]
    }
   ],
   "source": [
    "# STRING FORMATTING OPERATOR % EXAMPLE\n",
    "# https://docs.python.org/3/library/string.html\n",
    "print('%.2f' % 3.895)"
   ]
  },
  {
   "cell_type": "markdown",
   "metadata": {
    "id": "_nArhmD-MbRc"
   },
   "source": [
    "##  `in` OPERATOR"
   ]
  },
  {
   "cell_type": "code",
   "execution_count": 32,
   "metadata": {
    "colab": {
     "base_uri": "https://localhost:8080/"
    },
    "id": "HHLBEYn06OLH",
    "outputId": "91ff9633-a4e6-4f55-a4e4-85bdb6624b1d"
   },
   "outputs": [
    {
     "name": "stdout",
     "output_type": "stream",
     "text": [
      "True\n"
     ]
    }
   ],
   "source": [
    "# in OPERATOR\n",
    "print('e' in 'hello')"
   ]
  },
  {
   "cell_type": "markdown",
   "metadata": {
    "id": "hEPMlQgdMek0"
   },
   "source": [
    "##  STRING COMPARISON"
   ]
  },
  {
   "cell_type": "code",
   "execution_count": 33,
   "metadata": {
    "colab": {
     "base_uri": "https://localhost:8080/"
    },
    "id": "HJ1lQgtX6ao5",
    "outputId": "e4da610f-e66b-4df0-bfb3-848c878cb1b9"
   },
   "outputs": [
    {
     "name": "stdout",
     "output_type": "stream",
     "text": [
      "False\n",
      "False\n",
      "True\n"
     ]
    }
   ],
   "source": [
    "# STRING COMPARISON\n",
    "print('abc' > 'def')\n",
    "print('abc' > 'd')\n",
    "print('axyz' < 'bcde')"
   ]
  },
  {
   "cell_type": "markdown",
   "metadata": {
    "id": "t7tsFGUxMgpb"
   },
   "source": [
    "## THE DIRECTORY FUNCTION `dir()`"
   ]
  },
  {
   "cell_type": "code",
   "execution_count": 34,
   "metadata": {
    "colab": {
     "base_uri": "https://localhost:8080/"
    },
    "id": "zizudiBv6qSL",
    "outputId": "c3df5562-1733-4746-838c-9b04550f25cc"
   },
   "outputs": [
    {
     "name": "stdout",
     "output_type": "stream",
     "text": [
      "... __sizeof__ __str__ __subclasshook__ capitalize casefold center count encode ...\n",
      "and a lot more!\n"
     ]
    }
   ],
   "source": [
    "# THE DIRECTORY FUNCTION dir()\n",
    "s = '????'\n",
    "print('...',*dir(s)[30:38], '...\\nand a lot more!')"
   ]
  },
  {
   "cell_type": "markdown",
   "metadata": {
    "id": "HVT10s3NMilc"
   },
   "source": [
    "## IMPORTANT FUNCTIONS AND METHODS"
   ]
  },
  {
   "cell_type": "markdown",
   "metadata": {
    "id": "ePbIFrYKMmrT"
   },
   "source": [
    "### `capitalize()`, `center()`"
   ]
  },
  {
   "cell_type": "code",
   "execution_count": 35,
   "metadata": {
    "colab": {
     "base_uri": "https://localhost:8080/"
    },
    "id": "moSBjKTj72A2",
    "outputId": "b5a2beb5-27de-4bca-9a45-44e590e4f5dc"
   },
   "outputs": [
    {
     "name": "stdout",
     "output_type": "stream",
     "text": [
      "Hello\n",
      "    hello     \n",
      "*******hello********\n"
     ]
    }
   ],
   "source": [
    "# capitalize(), center()\n",
    "print('hello'.capitalize())\n",
    "print('hello'.center(14))\n",
    "print('hello'.center(20, '*'))"
   ]
  },
  {
   "cell_type": "markdown",
   "metadata": {
    "id": "vlEINpBNMrpc"
   },
   "source": [
    "###  `endswith()`, `startswith()`"
   ]
  },
  {
   "cell_type": "code",
   "execution_count": 36,
   "metadata": {
    "colab": {
     "base_uri": "https://localhost:8080/"
    },
    "id": "evOk61ou8qw-",
    "outputId": "4ff470c5-6d50-4941-ab56-c50960d15915"
   },
   "outputs": [
    {
     "name": "stdout",
     "output_type": "stream",
     "text": [
      "True\n",
      "False\n",
      "\n",
      "True\n",
      "True\n"
     ]
    }
   ],
   "source": [
    "# endswith(), startswith()\n",
    "print('hello'.endswith('o'))\n",
    "print('hello'.endswith('o', 1, 4))\n",
    "#      01234\n",
    "# search from 1 to 3 = 'ell'\n",
    "print()\n",
    "\n",
    "print('hello'.startswith('h'))\n",
    "print('hello'.startswith('e', 1, 4))\n",
    "#      01234\n",
    "# search from 1 to 3 = 'ell'"
   ]
  },
  {
   "cell_type": "markdown",
   "metadata": {
    "id": "lJUst4ojMwpN"
   },
   "source": [
    "###  `find()`"
   ]
  },
  {
   "cell_type": "code",
   "execution_count": 37,
   "metadata": {
    "colab": {
     "base_uri": "https://localhost:8080/"
    },
    "id": "DAT9APUY9hUn",
    "outputId": "9082eae6-56c5-4676-8134-8554da831009"
   },
   "outputs": [
    {
     "name": "stdout",
     "output_type": "stream",
     "text": [
      "2\n",
      "3\n"
     ]
    }
   ],
   "source": [
    "# find()\n",
    "print('hello'.find('l'))\n",
    "print('hello'.find('l', 3, 5))\n",
    "#      01234"
   ]
  },
  {
   "cell_type": "markdown",
   "metadata": {
    "id": "Q8SZXBQCMyzf"
   },
   "source": [
    "### `lstrip()`, `rstrip()`, `strip()`"
   ]
  },
  {
   "cell_type": "code",
   "execution_count": 38,
   "metadata": {
    "colab": {
     "base_uri": "https://localhost:8080/"
    },
    "id": "UbEFD_OO90JP",
    "outputId": "d5753cfd-a4c7-4d97-8682-021b285aba3f"
   },
   "outputs": [
    {
     "name": "stdout",
     "output_type": "stream",
     "text": [
      "\"hello        \"\n",
      "\"__   hello __*****  \"\n",
      "\n",
      "\"    hello\"\n",
      "\"***__   hello __*****  \"\n",
      "\n",
      "\"hello\"\n",
      "\"__   hello __*****  \"\n",
      "\n"
     ]
    }
   ],
   "source": [
    "# lstrip(), rstrip(), strip()\n",
    "def pr(s):\n",
    "    print('\"%s\"' % s)\n",
    "\n",
    "pr('    hello        '.lstrip())\n",
    "pr('***__   hello __*****  '.lstrip('*'))\n",
    "print()\n",
    "\n",
    "pr('    hello        '.rstrip())\n",
    "pr('***__   hello __*****  '.rstrip('*'))\n",
    "print()\n",
    "\n",
    "pr('    hello        '.strip())\n",
    "pr('***__   hello __*****  '.strip('*'))\n",
    "print()"
   ]
  },
  {
   "cell_type": "markdown",
   "metadata": {
    "id": "4kH_xqeGM94M"
   },
   "source": [
    "###  `join()`"
   ]
  },
  {
   "cell_type": "code",
   "execution_count": 39,
   "metadata": {
    "colab": {
     "base_uri": "https://localhost:8080/"
    },
    "id": "zcih8LYQ_Oj0",
    "outputId": "aa3162eb-6a55-4f6b-c218-ddeb8e7f23b9"
   },
   "outputs": [
    {
     "name": "stdout",
     "output_type": "stream",
     "text": [
      "hello_from_the_other_side\n",
      "other-from-hello-the-side\n"
     ]
    }
   ],
   "source": [
    "# join()\n",
    "wrdlst = ['hello', 'from', 'the', 'other', 'side']\n",
    "print('_'.join(wrdlst))\n",
    "\n",
    "wrdset = {'hello', 'from', 'the', 'other', 'side'}\n",
    "print('-'.join(wrdset))"
   ]
  },
  {
   "cell_type": "markdown",
   "metadata": {
    "id": "E4abd0FENB1t"
   },
   "source": [
    "### `replace()`"
   ]
  },
  {
   "cell_type": "code",
   "execution_count": 40,
   "metadata": {
    "colab": {
     "base_uri": "https://localhost:8080/"
    },
    "id": "g3rnKa7gAVed",
    "outputId": "d832da2f-7f90-45b9-d13a-0236fed0e568"
   },
   "outputs": [
    {
     "name": "stdout",
     "output_type": "stream",
     "text": [
      "he**o, *ong time no see\n",
      "he**o, long time no see\n"
     ]
    }
   ],
   "source": [
    "# replace()\n",
    "print('hello, long time no see'.replace('l', '*'))\n",
    "print('hello, long time no see'.replace('l', '*', 2))\n",
    "# only the 2 first ones are replaced "
   ]
  },
  {
   "cell_type": "markdown",
   "metadata": {
    "id": "K8SAeB0wNEa8"
   },
   "source": [
    "###  `lower()`, `upper()`"
   ]
  },
  {
   "cell_type": "code",
   "execution_count": 41,
   "metadata": {
    "colab": {
     "base_uri": "https://localhost:8080/"
    },
    "id": "tcwBsCoIA2gE",
    "outputId": "529b922c-ede3-4b61-d185-22bae3eb7b46"
   },
   "outputs": [
    {
     "name": "stdout",
     "output_type": "stream",
     "text": [
      "hello\n",
      "HELLO\n"
     ]
    }
   ],
   "source": [
    "# lower(), upper()\n",
    "print('hELlO'.lower())\n",
    "print('hELlO'.upper())"
   ]
  },
  {
   "cell_type": "markdown",
   "metadata": {
    "id": "qsEuxEZLCNHj"
   },
   "source": [
    "# CHAPTER 5: LISTS, SETS, DICTIONARIES AND TUPLES"
   ]
  },
  {
   "cell_type": "markdown",
   "metadata": {
    "id": "gGjGsB40PhVr"
   },
   "source": [
    "## LISTS"
   ]
  },
  {
   "cell_type": "markdown",
   "metadata": {
    "id": "1o6LTYKJQSjA"
   },
   "source": [
    "### LIST EXAMPLE"
   ]
  },
  {
   "cell_type": "code",
   "execution_count": 42,
   "metadata": {
    "colab": {
     "base_uri": "https://localhost:8080/"
    },
    "id": "v0Yx1WyXClUj",
    "outputId": "92861877-d09f-4d5a-e9ef-a7b02740c90a"
   },
   "outputs": [
    {
     "name": "stdout",
     "output_type": "stream",
     "text": [
      "['a', 8, 'bc', 'd', [15, 6]]\n"
     ]
    }
   ],
   "source": [
    "# LIST EXAMPLE\n",
    "lst = ['a', 8, 'bc', 'd', [15, 6]]\n",
    "print(lst)"
   ]
  },
  {
   "cell_type": "markdown",
   "metadata": {
    "id": "FT38HktlNSKM"
   },
   "source": [
    "###  LOOP A LIST"
   ]
  },
  {
   "cell_type": "code",
   "execution_count": 43,
   "metadata": {
    "colab": {
     "base_uri": "https://localhost:8080/"
    },
    "id": "AiQZQOVaC4Jb",
    "outputId": "e4917eb7-9801-4574-f678-8c54e461aca6"
   },
   "outputs": [
    {
     "name": "stdout",
     "output_type": "stream",
     "text": [
      "a\n",
      "8\n",
      "bc\n",
      "d\n",
      "[15, 6]\n"
     ]
    }
   ],
   "source": [
    "# LIST LOOPS\n",
    "for ele in lst:\n",
    "    print(ele)"
   ]
  },
  {
   "cell_type": "markdown",
   "metadata": {
    "id": "I56drTesNYKL"
   },
   "source": [
    "### LISTS ARE MUTABLE"
   ]
  },
  {
   "cell_type": "code",
   "execution_count": 44,
   "metadata": {
    "colab": {
     "base_uri": "https://localhost:8080/"
    },
    "id": "jZHcyaHXDHpD",
    "outputId": "15a5e36c-d297-4cf0-e424-af6f779cb2c1"
   },
   "outputs": [
    {
     "name": "stdout",
     "output_type": "stream",
     "text": [
      "['^_^', 8, 'bc', 'd', [15, 6]]\n"
     ]
    }
   ],
   "source": [
    "# LISTS ARE MUTABLE\n",
    "lst[0] = '^_^'\n",
    "print(lst)"
   ]
  },
  {
   "cell_type": "markdown",
   "metadata": {
    "id": "A7qn3sA9NZts"
   },
   "source": [
    "### `len()` OF A LIST"
   ]
  },
  {
   "cell_type": "code",
   "execution_count": 45,
   "metadata": {
    "colab": {
     "base_uri": "https://localhost:8080/"
    },
    "id": "nYRT595sDsEj",
    "outputId": "891900aa-8fb1-4844-d6e2-0517f1b43d7b"
   },
   "outputs": [
    {
     "name": "stdout",
     "output_type": "stream",
     "text": [
      "5\n",
      "5\n"
     ]
    }
   ],
   "source": [
    "# len OF A LIST\n",
    "print(len(lst))\n",
    "print(lst.__len__())"
   ]
  },
  {
   "cell_type": "markdown",
   "metadata": {
    "id": "HOChjEPuNbyl"
   },
   "source": [
    "### THE `range()` FUNCTION"
   ]
  },
  {
   "cell_type": "code",
   "execution_count": 46,
   "metadata": {
    "colab": {
     "base_uri": "https://localhost:8080/"
    },
    "id": "xcqhLyjiD-qb",
    "outputId": "c1492d4d-9d4e-419d-c45d-058b56fbfe2a"
   },
   "outputs": [
    {
     "name": "stdout",
     "output_type": "stream",
     "text": [
      "0 1 2 3 4 5 6 7\n",
      "3 4 5 6 7\n",
      "3 6\n",
      "8 6 4\n"
     ]
    }
   ],
   "source": [
    "# THE range() FUNCTION\n",
    "print(*range(8))\n",
    "print(*range(3, 8))\n",
    "print(*range(3, 8, 3))\n",
    "print(*range(8, 3, -2))"
   ]
  },
  {
   "cell_type": "markdown",
   "metadata": {
    "id": "NgrngArVNkk2"
   },
   "source": [
    "### CONCATENATING LISTS USING `+`"
   ]
  },
  {
   "cell_type": "code",
   "execution_count": 47,
   "metadata": {
    "colab": {
     "base_uri": "https://localhost:8080/"
    },
    "id": "fOEcXDmvEeaD",
    "outputId": "1c869b9b-b530-4b5a-8bfb-c6a2539188cf"
   },
   "outputs": [
    {
     "name": "stdout",
     "output_type": "stream",
     "text": [
      "['^_^', 8, 'bc', 'd', [15, 6]]\n",
      "['^_^', 8, 'bc', 'd', [15, 6], 7, 3, 'h']\n"
     ]
    }
   ],
   "source": [
    "# CONCATENATING LISTS USING +\n",
    "print(lst)\n",
    "print(lst + [7, 3, 'h'])"
   ]
  },
  {
   "cell_type": "markdown",
   "metadata": {
    "id": "4dvZJmbdNl28"
   },
   "source": [
    "### LIST SLICING"
   ]
  },
  {
   "cell_type": "code",
   "execution_count": 48,
   "metadata": {
    "colab": {
     "base_uri": "https://localhost:8080/"
    },
    "id": "L_moJPfdE2IL",
    "outputId": "451ba29f-3d6a-460b-9b20-c55294ff0b69"
   },
   "outputs": [
    {
     "name": "stdout",
     "output_type": "stream",
     "text": [
      "['^_^', 8, 'bc', 'd', [15, 6]]\n",
      "['^_^', 8, 'bc']\n",
      "d\n"
     ]
    }
   ],
   "source": [
    "# LIST SLICING\n",
    "print(lst)\n",
    "print(lst[:3])\n",
    "print(lst[-2])"
   ]
  },
  {
   "cell_type": "markdown",
   "metadata": {
    "id": "0ypPykMoNnpc"
   },
   "source": [
    "### LIST METHODS AND FUNCTIONS"
   ]
  },
  {
   "cell_type": "code",
   "execution_count": 49,
   "metadata": {
    "colab": {
     "base_uri": "https://localhost:8080/"
    },
    "id": "OouG2k7RFFYD",
    "outputId": "04addf88-c6bb-4b42-c3a8-b2b14487c1aa"
   },
   "outputs": [
    {
     "name": "stdout",
     "output_type": "stream",
     "text": [
      "__subclasshook__\n",
      "append\n",
      "clear\n",
      "copy\n",
      "count\n",
      "extend\n",
      "index\n",
      "insert\n",
      "pop\n",
      "remove\n",
      "reverse\n",
      "sort\n"
     ]
    }
   ],
   "source": [
    "# LIST METHODS AND FUNCTIONS\n",
    "for met in dir(lst)[34:]:\n",
    "    print(met)"
   ]
  },
  {
   "cell_type": "markdown",
   "metadata": {
    "id": "uTzKA4A6NrkW"
   },
   "source": [
    "#### `append()`"
   ]
  },
  {
   "cell_type": "code",
   "execution_count": 50,
   "metadata": {
    "colab": {
     "base_uri": "https://localhost:8080/"
    },
    "id": "1D1x5TVWGHTi",
    "outputId": "34c26086-0718-471d-ff78-32a6629f9bdf"
   },
   "outputs": [
    {
     "name": "stdout",
     "output_type": "stream",
     "text": [
      "['^_^', 8, 'bc', 'd', [15, 6], 'appended string']\n"
     ]
    }
   ],
   "source": [
    "# append()\n",
    "new_lst = lst[:]\n",
    "new_lst.append('appended string')\n",
    "print(new_lst)"
   ]
  },
  {
   "cell_type": "markdown",
   "metadata": {
    "id": "QnCkmGGeNuib"
   },
   "source": [
    "#### `in` OPERATOR"
   ]
  },
  {
   "cell_type": "code",
   "execution_count": 51,
   "metadata": {
    "colab": {
     "base_uri": "https://localhost:8080/"
    },
    "id": "ML29qhZcGzPS",
    "outputId": "44dcb0e8-3bdc-424e-c1f7-3321e36f63d1"
   },
   "outputs": [
    {
     "name": "stdout",
     "output_type": "stream",
     "text": [
      "True\n",
      "False\n",
      "True\n",
      "False\n"
     ]
    }
   ],
   "source": [
    "# in OPERATOR\n",
    "print(8 in lst)\n",
    "print(9 in lst)\n",
    "print('^_^' in lst)\n",
    "print('^_^' not in lst)"
   ]
  },
  {
   "cell_type": "markdown",
   "metadata": {
    "id": "gCz2b4AuNw58"
   },
   "source": [
    "#### `max()`, `min()`, `sum()`"
   ]
  },
  {
   "cell_type": "code",
   "execution_count": 52,
   "metadata": {
    "colab": {
     "base_uri": "https://localhost:8080/"
    },
    "id": "4bt41FYgHIMJ",
    "outputId": "8b851fe3-03e3-46b4-f29c-5b9864b46fdf"
   },
   "outputs": [
    {
     "name": "stdout",
     "output_type": "stream",
     "text": [
      "69\n",
      "6\n",
      "84\n"
     ]
    }
   ],
   "source": [
    "# max(), min(), sum()\n",
    "new_lst = [6, 69, 9]\n",
    "print(max(new_lst))\n",
    "print(min(new_lst))\n",
    "print(sum(new_lst))"
   ]
  },
  {
   "cell_type": "markdown",
   "metadata": {
    "id": "Zh9yp0DBN1Oi"
   },
   "source": [
    "#### `sort()`, `sorted()`"
   ]
  },
  {
   "cell_type": "code",
   "execution_count": 53,
   "metadata": {
    "colab": {
     "base_uri": "https://localhost:8080/"
    },
    "id": "TDK_f1WIHjQJ",
    "outputId": "552247de-10c3-44cf-b022-3a6acea80777"
   },
   "outputs": [
    {
     "name": "stdout",
     "output_type": "stream",
     "text": [
      "[6, 9, 69]\n",
      "[6, 69, 9]\n"
     ]
    }
   ],
   "source": [
    "# sort(), sorted()\n",
    "new_lst = [6, 69, 9]\n",
    "new_lst = sorted(new_lst)\n",
    "print(new_lst)\n",
    "new_lst.sort(reverse = True, key = lambda x: x % 8)\n",
    "'''\n",
    "6 % 8 = 6\n",
    "69 % 8 = 5\n",
    "9 % 8 = 1\n",
    "'''\n",
    "print(new_lst)"
   ]
  },
  {
   "cell_type": "markdown",
   "metadata": {
    "id": "EWM4qSr1N6rD"
   },
   "source": [
    "####  `del`, `pop()`, `remove()`"
   ]
  },
  {
   "cell_type": "code",
   "execution_count": 54,
   "metadata": {
    "colab": {
     "base_uri": "https://localhost:8080/"
    },
    "id": "ge_g_iLBIPLI",
    "outputId": "3107de4e-b267-4547-d8e2-7c2b66b60fe5"
   },
   "outputs": [
    {
     "name": "stdout",
     "output_type": "stream",
     "text": [
      "['^_^', 8, 'bc', 'd', [15, 6]]\n",
      "['^_^', 8, 'bc', 'd']\n",
      "['^_^', 8, 'bc']\n",
      "['^_^', 8]\n"
     ]
    }
   ],
   "source": [
    "# del, pop(), remove()\n",
    "new_lst = lst[:]\n",
    "print(new_lst)\n",
    "\n",
    "del new_lst[4]\n",
    "print(new_lst)\n",
    "\n",
    "new_lst.pop()\n",
    "print(new_lst)\n",
    "\n",
    "new_lst.remove('bc')\n",
    "print(new_lst)"
   ]
  },
  {
   "cell_type": "markdown",
   "metadata": {
    "id": "Yaxt8fDxOAZD"
   },
   "source": [
    "#### `reverse()`"
   ]
  },
  {
   "cell_type": "code",
   "execution_count": 55,
   "metadata": {
    "colab": {
     "base_uri": "https://localhost:8080/"
    },
    "id": "23Z7G-N2I4VA",
    "outputId": "9b75856e-0a9d-4fc0-ad72-a8e5a4ae7973"
   },
   "outputs": [
    {
     "name": "stdout",
     "output_type": "stream",
     "text": [
      "['^_^', 8, 'bc', 'd', [15, 6]]\n",
      "[[15, 6], 'd', 'bc', 8, '^_^']\n"
     ]
    }
   ],
   "source": [
    "# reverse()\n",
    "new_lst = lst[:]\n",
    "print(new_lst)\n",
    "\n",
    "new_lst.reverse()\n",
    "print(new_lst)\n"
   ]
  },
  {
   "cell_type": "markdown",
   "metadata": {
    "id": "OM4f6n4hODSr"
   },
   "source": [
    "###  LISTS AND STRINGS"
   ]
  },
  {
   "cell_type": "code",
   "execution_count": 56,
   "metadata": {
    "colab": {
     "base_uri": "https://localhost:8080/"
    },
    "id": "cwy8BSATOcGu",
    "outputId": "2984d80a-fe85-4fb9-bc14-d2f35b38865a"
   },
   "outputs": [
    {
     "name": "stdout",
     "output_type": "stream",
     "text": [
      "['t', 'h', 'i', 's', ' ', 'o', 'n', 'e', '!', ' ', 'i', 's', ' ', 'a', ' ', 's', 't', 'r', 'i', 'n', 'g']\n",
      "['this', 'one!', 'is', 'a', 'string']\n",
      "['this one', ' is a string']\n",
      "hi-there-?\n"
     ]
    }
   ],
   "source": [
    "# LISTS AND STRINGS\n",
    "s = 'this one! is a string'\n",
    "print(list(s))\n",
    "print(s.split())\n",
    "print(s.split('!'))\n",
    "\n",
    "new_lst = ['hi', 'there', '?']\n",
    "print('-'.join(new_lst))"
   ]
  },
  {
   "cell_type": "markdown",
   "metadata": {
    "id": "wsjBbqllOHKj"
   },
   "source": [
    "###  ALIASES"
   ]
  },
  {
   "cell_type": "code",
   "execution_count": 57,
   "metadata": {
    "colab": {
     "base_uri": "https://localhost:8080/"
    },
    "id": "kR_K48-VOpWe",
    "outputId": "2460ce06-01d7-4d49-dee5-7fd8c81c453e"
   },
   "outputs": [
    {
     "name": "stdout",
     "output_type": "stream",
     "text": [
      "[1, 3, 4, '?']\n"
     ]
    }
   ],
   "source": [
    "# ALIASES\n",
    "lst_a = [1, 3, 4]\n",
    "lst_b = lst_a\n",
    "\n",
    "lst_b.append('?')\n",
    "print(lst_a)"
   ]
  },
  {
   "cell_type": "markdown",
   "metadata": {
    "id": "9WpVgFR-OI57"
   },
   "source": [
    "###  MUTATION AND ITERATION"
   ]
  },
  {
   "cell_type": "code",
   "execution_count": 58,
   "metadata": {
    "colab": {
     "base_uri": "https://localhost:8080/"
    },
    "id": "46dhTpNWQP7-",
    "outputId": "ed6e6798-9585-4829-a716-148e4ffbcf1f"
   },
   "outputs": [
    {
     "name": "stdout",
     "output_type": "stream",
     "text": [
      "[1, 4]\n"
     ]
    }
   ],
   "source": [
    "# MUTATION AND ITERATION\n",
    "lst_a = [1, 3, 4]\n",
    "lst_b = [4, 3, 9]\n",
    "# trying to remove values in lst_a which are already in lst_b \n",
    "for num in lst_a:\n",
    "    if num in lst_b:\n",
    "        lst_a.remove(num)\n",
    "print(lst_a)\n",
    "# avoid mutating the list while iterating over it"
   ]
  },
  {
   "cell_type": "markdown",
   "metadata": {
    "id": "LYLpEEl1OLFj"
   },
   "source": [
    "###  LIST ARGUMENTS"
   ]
  },
  {
   "cell_type": "code",
   "execution_count": 59,
   "metadata": {
    "colab": {
     "base_uri": "https://localhost:8080/"
    },
    "id": "oYIXTvd6Rqe9",
    "outputId": "f6ed8548-81cc-4aa7-b863-3b2f2df6c55c"
   },
   "outputs": [
    {
     "name": "stdout",
     "output_type": "stream",
     "text": [
      "[1, 3, 6]\n",
      "List in wrong one: [1, 3, 6]\n",
      "[1, 3, 6, 9]\n"
     ]
    }
   ],
   "source": [
    "# LIST ARGUMENTS\n",
    "def delete_last(a_lst):\n",
    "    del a_lst[-1]\n",
    "    # this function mutates the global list\n",
    "\n",
    "def wrong_delete_last(a_lst):\n",
    "    a_lst = a_lst[:-1]\n",
    "    print('List in wrong one:', a_lst)\n",
    "    # this one doesn't, a_lst now becomes a local variable\n",
    "\n",
    "new_lst = [1, 3, 6, 9]\n",
    "delete_last(new_lst)\n",
    "print(new_lst)\n",
    "\n",
    "new_lst = [1, 3, 6, 9]\n",
    "wrong_delete_last(new_lst)\n",
    "print(new_lst)"
   ]
  },
  {
   "cell_type": "markdown",
   "metadata": {
    "id": "FSkufUenS9Hm"
   },
   "source": [
    "###  MapReduce AND LIST COMPREHENSION"
   ]
  },
  {
   "cell_type": "markdown",
   "metadata": {
    "id": "b3S9oygtOOoz"
   },
   "source": [
    "####  `map()`"
   ]
  },
  {
   "cell_type": "code",
   "execution_count": 60,
   "metadata": {
    "colab": {
     "base_uri": "https://localhost:8080/"
    },
    "id": "Qi1yCsNrTLpl",
    "outputId": "1d27a6a6-33f0-41a3-8614-4ddc4622a183"
   },
   "outputs": [
    {
     "name": "stdout",
     "output_type": "stream",
     "text": [
      "[4, 6, 9, 11, 12, 13]\n"
     ]
    }
   ],
   "source": [
    "# map()\n",
    "new_lst = [1, 3, 6, 8, 9, 10]\n",
    "print(list(map(lambda x: x + 3, new_lst)))"
   ]
  },
  {
   "cell_type": "markdown",
   "metadata": {
    "id": "VLWowtOOORbb"
   },
   "source": [
    "####  `reduce()`"
   ]
  },
  {
   "cell_type": "code",
   "execution_count": 61,
   "metadata": {
    "colab": {
     "base_uri": "https://localhost:8080/"
    },
    "id": "wJpahO3zT6jM",
    "outputId": "46117588-48c6-488c-9cc3-ac1c3ba5cea7"
   },
   "outputs": [
    {
     "name": "stdout",
     "output_type": "stream",
     "text": [
      "11\n",
      "3011\n"
     ]
    }
   ],
   "source": [
    "# reduce()\n",
    "from functools import reduce\n",
    "new_lst = [1, 3, 6, 1]\n",
    "print(reduce(lambda x, y: x + y, new_lst))\n",
    "print(reduce(lambda x, y: x + y, new_lst, 3000))\n",
    "#                                         initializer"
   ]
  },
  {
   "cell_type": "markdown",
   "metadata": {
    "id": "sfNplQ-POVmn"
   },
   "source": [
    "####  MapReduce APPLICATION: COUNT NUMBER OF A WORD"
   ]
  },
  {
   "cell_type": "code",
   "execution_count": 62,
   "metadata": {
    "colab": {
     "base_uri": "https://localhost:8080/"
    },
    "id": "E7pLf0-SUoh8",
    "outputId": "8069de55-2ff5-4812-9c38-16109f3f58a8"
   },
   "outputs": [
    {
     "name": "stdout",
     "output_type": "stream",
     "text": [
      "[1, 0, 0, 0, 0, 0, 0, 0, 1, 0, 0, 0, 0, 0, 1, 0, 0, 0, 0, 0, 0, 0, 0, 0, 0, 0, 0, 0, 0, 0, 0, 1, 0, 0, 1, 0, 0, 0, 0, 0, 0, 0, 0, 0, 0, 0, 0, 0, 0, 0, 0, 0, 0, 0, 0, 0, 1, 0, 0, 1, 0, 0, 0, 0, 1, 0, 0, 0, 1, 0, 0, 0, 0, 0, 0, 0, 1, 0, 0, 0, 0, 0, 0, 0, 0, 0, 0, 0, 0, 0, 0, 0, 0, 0, 0, 0, 0, 0, 1, 0, 0, 0, 0, 0, 0, 0, 0, 0, 0, 0, 0, 0, 0, 0, 0, 0, 0, 0, 0, 0, 0, 0, 0, 0, 0, 0, 0, 0, 0, 0, 0, 0, 0, 0, 0, 0, 0, 0, 0, 0, 0, 0, 1, 0, 0, 0, 0, 0, 0, 0, 0, 0, 0, 0, 0, 0, 0, 0, 1, 0, 0, 0, 0, 1, 0, 0, 0, 0, 0, 0, 0, 0, 0, 0, 0, 0, 0, 0, 0, 0, 0, 0, 0, 0, 0, 0, 1, 0, 0]\n",
      "15\n"
     ]
    }
   ],
   "source": [
    "# MapReduce APPLICATION: COUNT NUMBER OF A WORD\n",
    "# count the number of the word \"the\"/\"The\" in a sentence\n",
    "text = 'The word \"deep\" in \"deep learning\" refers to the number of layers through which the data is transformed. More precisely, deep learning systems have a substantial credit assignment path (CAP) depth. The CAP is the chain of transformations from input to output. CAPs describe potentially causal connections between input and output. For a feedforward neural network, the depth of the CAPs is that of the network and is the number of hidden layers plus one (as the output layer is also parameterized). For recurrent neural networks, in which a signal may propagate through a layer more than once, the CAP depth is potentially unlimited.[2] No universally agreed-upon threshold of depth divides shallow learning from deep learning, but most researchers agree that deep learning involves CAP depth higher than 2. CAP of depth 2 has been shown to be a universal approximator in the sense that it can emulate any function.[15] Beyond that, more layers do not add to the function approximator ability of the network. Deep models (CAP > 2) are able to extract better features than shallow models and hence, extra layers help in learning the features effectively.'\n",
    "ifThe = lambda word: 1 if word in ['the', 'The'] else 0\n",
    "sumof2 = lambda x, y: x + y\n",
    "print(list(map(ifThe, text.split())))\n",
    "print(reduce(sumof2, list(map(ifThe, text.split()))))"
   ]
  },
  {
   "cell_type": "markdown",
   "metadata": {
    "id": "00fWxiSKfYsa"
   },
   "source": [
    "#### LIST COMPREHENSION"
   ]
  },
  {
   "cell_type": "code",
   "execution_count": 63,
   "metadata": {
    "colab": {
     "base_uri": "https://localhost:8080/"
    },
    "id": "8kXXAbPxW5iH",
    "outputId": "2ee23793-9a61-4f59-aa65-cec17a05bb30"
   },
   "outputs": [
    {
     "name": "stdout",
     "output_type": "stream",
     "text": [
      "['h', 'e', 'l', 'l', 'o', ' ', 't', 'h', 'e', 'r', 'e'] \n",
      "\n",
      "['The', 'the', 'the', 'The', 'the', 'the', 'the', 'the', 'the', 'the', 'the', 'the', 'the', 'the', 'the']\n",
      "15\n",
      "[1, 0, 0, 0, 0, 0, 0, 0, 1, 0, 0, 0, 0, 0, 1, 0, 0, 0, 0, 0, 0, 0, 0, 0, 0, 0, 0, 0, 0, 0, 0, 1, 0, 0, 1, 0, 0, 0, 0, 0, 0, 0, 0, 0, 0, 0, 0, 0, 0, 0, 0, 0, 0, 0, 0, 0, 1, 0, 0, 1, 0, 0, 0, 0, 1, 0, 0, 0, 1, 0, 0, 0, 0, 0, 0, 0, 1, 0, 0, 0, 0, 0, 0, 0, 0, 0, 0, 0, 0, 0, 0, 0, 0, 0, 0, 0, 0, 0, 1, 0, 0, 0, 0, 0, 0, 0, 0, 0, 0, 0, 0, 0, 0, 0, 0, 0, 0, 0, 0, 0, 0, 0, 0, 0, 0, 0, 0, 0, 0, 0, 0, 0, 0, 0, 0, 0, 0, 0, 0, 0, 0, 0, 1, 0, 0, 0, 0, 0, 0, 0, 0, 0, 0, 0, 0, 0, 0, 0, 1, 0, 0, 0, 0, 1, 0, 0, 0, 0, 0, 0, 0, 0, 0, 0, 0, 0, 0, 0, 0, 0, 0, 0, 0, 0, 0, 0, 1, 0, 0]\n"
     ]
    }
   ],
   "source": [
    "# LIST COMPREHENSION\n",
    "print([c for c in 'hello there'], '\\n')\n",
    "\n",
    "cnt_lst = [ word for word in text.split() if word in ['the', 'The'] ]\n",
    "print(cnt_lst)\n",
    "print(len(cnt_lst))\n",
    "\n",
    "cnt_lst_2 = [ 1 if word in ['the', 'The'] else 0 for word in text.split() ]\n",
    "print(cnt_lst_2)"
   ]
  },
  {
   "cell_type": "markdown",
   "metadata": {
    "id": "M0qqA1FXbDom"
   },
   "source": [
    "##  SETS"
   ]
  },
  {
   "cell_type": "markdown",
   "metadata": {
    "id": "_Cjyv5eKOekj"
   },
   "source": [
    "###  SET EXAMPLES"
   ]
  },
  {
   "cell_type": "code",
   "execution_count": 64,
   "metadata": {
    "colab": {
     "base_uri": "https://localhost:8080/"
    },
    "id": "OXx5ZzCAbLWx",
    "outputId": "654d5412-3192-4321-e129-a571b4a16e71"
   },
   "outputs": [
    {
     "name": "stdout",
     "output_type": "stream",
     "text": [
      "{8, 3, 4}\n",
      "{'l', 'e', 'h', 'o'}\n"
     ]
    }
   ],
   "source": [
    "# SET EXAMPLES\n",
    "print({3, 4, 8})\n",
    "print(set('hello'))"
   ]
  },
  {
   "cell_type": "markdown",
   "metadata": {
    "id": "ES_WNaXEOgNT"
   },
   "source": [
    "###  SET OPERATIONS"
   ]
  },
  {
   "cell_type": "code",
   "execution_count": 65,
   "metadata": {
    "colab": {
     "base_uri": "https://localhost:8080/"
    },
    "id": "jNmqPjt4bdW5",
    "outputId": "f717cbe3-0a25-43b4-e3bb-33b1864146b4"
   },
   "outputs": [
    {
     "name": "stdout",
     "output_type": "stream",
     "text": [
      "{0, 1}\n",
      "{0, 1, 2, 3, 4, 5}\n",
      "{2, 3}\n",
      "{0, 1, 4, 5}\n"
     ]
    }
   ],
   "source": [
    "# SET OPERATIONS\n",
    "A = {0, 1, 2, 3}\n",
    "B = {2, 3, 4, 5}\n",
    "print(A - B) # in A, not in B\n",
    "print(A | B) # in any of A or B (bitwise or)\n",
    "print(A & B) # in both A and B (bitwise and)\n",
    "print(A ^ B) # in A or B, not both (bitwise xor)"
   ]
  },
  {
   "cell_type": "markdown",
   "metadata": {
    "id": "sfkOnQ5bOhfr"
   },
   "source": [
    "###  SET COMPREHENSION"
   ]
  },
  {
   "cell_type": "code",
   "execution_count": 66,
   "metadata": {
    "colab": {
     "base_uri": "https://localhost:8080/"
    },
    "id": "-6WYC5jicoob",
    "outputId": "b34ee3c7-b39a-46e9-b16b-ed10431f4137"
   },
   "outputs": [
    {
     "name": "stdout",
     "output_type": "stream",
     "text": [
      "{'effectively.', 'transformed.', 'output.', '2.', 'network.', 'parameterized).', 'depth.'}\n"
     ]
    }
   ],
   "source": [
    "# SET COMPREHENSION\n",
    "# set of all end-of-sentence words\n",
    "print( {word for word in text.split() if word.endswith('.')} )"
   ]
  },
  {
   "cell_type": "markdown",
   "metadata": {
    "id": "if_6BKRJdwkS"
   },
   "source": [
    "##  DICTIONARIES\n"
   ]
  },
  {
   "cell_type": "markdown",
   "metadata": {
    "id": "KGmW8aAxOjE1"
   },
   "source": [
    "###  DICTIONARY EXAMPLES"
   ]
  },
  {
   "cell_type": "code",
   "execution_count": 67,
   "metadata": {
    "colab": {
     "base_uri": "https://localhost:8080/"
    },
    "id": "WboP3NCjdzIn",
    "outputId": "eb133b97-6fb5-46d0-f25b-ddc180300477"
   },
   "outputs": [
    {
     "name": "stdout",
     "output_type": "stream",
     "text": [
      "{8: 'b', '?': 'a'}\n",
      "b\n",
      "a\n",
      "{8: 'b', '?': 'a', '!?': 'mnpq'}\n"
     ]
    }
   ],
   "source": [
    "# DICTIONARY EXAMPLES\n",
    "d = {8: 'b', '?': 'a'}\n",
    "print(d)\n",
    "print(d[8])\n",
    "print(d['?'])\n",
    "d['!?'] = 'mnpq'\n",
    "print(d)"
   ]
  },
  {
   "cell_type": "markdown",
   "metadata": {
    "id": "gPTQ2UWVOk97"
   },
   "source": [
    "###  in OPERATOR"
   ]
  },
  {
   "cell_type": "code",
   "execution_count": 68,
   "metadata": {
    "colab": {
     "base_uri": "https://localhost:8080/"
    },
    "id": "vQyRrL4aeK_v",
    "outputId": "bec18a76-d781-47b3-a959-68186a855333"
   },
   "outputs": [
    {
     "name": "stdout",
     "output_type": "stream",
     "text": [
      "{8: 'b', '?': 'a'}\n",
      "True\n",
      "False\n"
     ]
    }
   ],
   "source": [
    "# in OPERATOR\n",
    "d = {8: 'b', '?': 'a'}\n",
    "print(d)\n",
    "print('?' in d)\n",
    "print('b' in d)"
   ]
  },
  {
   "cell_type": "markdown",
   "metadata": {
    "id": "GMSREpmiOnTz"
   },
   "source": [
    "### `get()` METHOD"
   ]
  },
  {
   "cell_type": "code",
   "execution_count": 69,
   "metadata": {
    "colab": {
     "base_uri": "https://localhost:8080/"
    },
    "id": "gIElw8BFfWSQ",
    "outputId": "1993cd27-2271-4ae2-f255-947580efa42f"
   },
   "outputs": [
    {
     "name": "stdout",
     "output_type": "stream",
     "text": [
      "{8: 'b', '?': 'a'}\n",
      "b\n",
      "None\n",
      "5\n",
      "{8: 'b', '?': 'a'}\n"
     ]
    }
   ],
   "source": [
    "# get() METHOD\n",
    "d = {8: 'b', '?': 'a'}\n",
    "print(d)\n",
    "print(d.get(8))\n",
    "print(d.get('a'))\n",
    "print(d.get('m', 5)) # not equivalent to d['m'] = 5\n",
    "print(d)"
   ]
  },
  {
   "cell_type": "markdown",
   "metadata": {
    "id": "ewEdxWmKOqTa"
   },
   "source": [
    "###  APPLICATION: COUNTING WORDS"
   ]
  },
  {
   "cell_type": "code",
   "execution_count": 70,
   "metadata": {
    "colab": {
     "base_uri": "https://localhost:8080/"
    },
    "id": "5KBd2kubfpuv",
    "outputId": "18769b94-7d5b-41b5-cc4c-2ec05cc781c8"
   },
   "outputs": [
    {
     "name": "stdout",
     "output_type": "stream",
     "text": [
      "{'The': 2, 'word': 1, '\"deep\"': 1, 'in': 4, '\"deep': 1, 'learning\"': 1, 'refers': 1, 'to': 5, 'the': 13, 'number': 2, 'of': 8, 'layers': 4, 'through': 2, 'which': 2, 'data': 1, 'is': 6, 'transformed.': 1, 'More': 1, 'precisely,': 1, 'deep': 3, 'learning': 4, 'systems': 1, 'have': 1, 'a': 5, 'substantial': 1, 'credit': 1, 'assignment': 1, 'path': 1, '(CAP)': 1, 'depth.': 1, 'CAP': 4, 'chain': 1, 'transformations': 1, 'from': 2, 'input': 2, 'output.': 2, 'CAPs': 2, 'describe': 1, 'potentially': 2, 'causal': 1, 'connections': 1, 'between': 1, 'and': 3, 'For': 2, 'feedforward': 1, 'neural': 2, 'network,': 1, 'depth': 5, 'that': 3, 'network': 1, 'hidden': 1, 'plus': 1, 'one': 1, '(as': 1, 'output': 1, 'layer': 2, 'also': 1, 'parameterized).': 1, 'recurrent': 1, 'networks,': 1, 'signal': 1, 'may': 1, 'propagate': 1, 'more': 2, 'than': 3, 'once,': 1, 'unlimited.[2]': 1, 'No': 1, 'universally': 1, 'agreed-upon': 1, 'threshold': 1, 'divides': 1, 'shallow': 2, 'learning,': 1, 'but': 1, 'most': 1, 'researchers': 1, 'agree': 1, 'involves': 1, 'higher': 1, '2.': 1, '2': 1, 'has': 1, 'been': 1, 'shown': 1, 'be': 1, 'universal': 1, 'approximator': 2, 'sense': 1, 'it': 1, 'can': 1, 'emulate': 1, 'any': 1, 'function.[15]': 1, 'Beyond': 1, 'that,': 1, 'do': 1, 'not': 1, 'add': 1, 'function': 1, 'ability': 1, 'network.': 1, 'Deep': 1, 'models': 2, '(CAP': 1, '>': 1, '2)': 1, 'are': 1, 'able': 1, 'extract': 1, 'better': 1, 'features': 2, 'hence,': 1, 'extra': 1, 'help': 1, 'effectively.': 1}\n"
     ]
    }
   ],
   "source": [
    "# APPLICATION: COUNTING WORDS\n",
    "counted = dict()\n",
    "for word in text.split():\n",
    "    counted[word] = counted.get(word, 0) + 1\n",
    "print(counted)"
   ]
  },
  {
   "cell_type": "markdown",
   "metadata": {
    "id": "n6zrl00-Os5J"
   },
   "source": [
    "###  LOOP OVER A DICTIONARY"
   ]
  },
  {
   "cell_type": "code",
   "execution_count": 71,
   "metadata": {
    "colab": {
     "base_uri": "https://localhost:8080/"
    },
    "id": "9crCG0g1hKq-",
    "outputId": "dda3c813-ba2b-42b9-d57b-9384d26b67be"
   },
   "outputs": [
    {
     "name": "stdout",
     "output_type": "stream",
     "text": [
      "8 b\n",
      "? a\n",
      "! b\n",
      "10 15\n"
     ]
    }
   ],
   "source": [
    "# LOOP OVER A DICTIONARY\n",
    "d = {8: 'b', '?': 'a', '!': 'b', 10: 15}\n",
    "for key in d:\n",
    "    print(key, d[key])"
   ]
  },
  {
   "cell_type": "markdown",
   "metadata": {
    "id": "qsMXZyPhOxKC"
   },
   "source": [
    "###  LISTS OF KEYS AND VALUES"
   ]
  },
  {
   "cell_type": "code",
   "execution_count": 72,
   "metadata": {
    "colab": {
     "base_uri": "https://localhost:8080/"
    },
    "id": "Ntj76QvDh699",
    "outputId": "4ff8667c-fcd2-4507-ce53-7747aea60679"
   },
   "outputs": [
    {
     "name": "stdout",
     "output_type": "stream",
     "text": [
      "[8, '?', '!', 10]\n",
      "['b', 'a', 'b', 15]\n",
      "[(8, 'b'), ('?', 'a'), ('!', 'b'), (10, 15)]\n"
     ]
    }
   ],
   "source": [
    "# LISTS OF KEYS AND VALUES\n",
    "print(list(d.keys()))\n",
    "print(list(d.values()))\n",
    "print(list(d.items()))"
   ]
  },
  {
   "cell_type": "markdown",
   "metadata": {
    "id": "CDtb1NyJOy9i"
   },
   "source": [
    "### TWO ITERATION VARIABLES"
   ]
  },
  {
   "cell_type": "code",
   "execution_count": 73,
   "metadata": {
    "colab": {
     "base_uri": "https://localhost:8080/"
    },
    "id": "OODrc3XGiYOI",
    "outputId": "78315c7d-dd4b-4a71-8fe9-901b561442ed"
   },
   "outputs": [
    {
     "name": "stdout",
     "output_type": "stream",
     "text": [
      "8 b\n",
      "? a\n",
      "! b\n",
      "10 15\n"
     ]
    }
   ],
   "source": [
    "# TWO ITERATION VARIABLES\n",
    "for key, value in d.items():\n",
    "    print(key, value)"
   ]
  },
  {
   "cell_type": "markdown",
   "metadata": {
    "id": "1jf75LBiO0YU"
   },
   "source": [
    "### DICTIONARY COMPREHENSION"
   ]
  },
  {
   "cell_type": "code",
   "execution_count": 74,
   "metadata": {
    "colab": {
     "base_uri": "https://localhost:8080/"
    },
    "id": "Qfq5PNlXin--",
    "outputId": "1dc7a4f4-c900-4cd9-d54e-6c2ae84d5afc"
   },
   "outputs": [
    {
     "name": "stdout",
     "output_type": "stream",
     "text": [
      "{2: 16, 3: 24, 4: 32, 5: 40, 6: 48, 7: 56}\n"
     ]
    }
   ],
   "source": [
    "# DICTIONARY COMPREHENSION\n",
    "print({x: x * 8 for x in range(2, 8)})"
   ]
  },
  {
   "cell_type": "markdown",
   "metadata": {
    "id": "DpXLEMaOO19W"
   },
   "source": [
    "### MEMOIZED RECURSION: FIBONACCI EXAMPLE"
   ]
  },
  {
   "cell_type": "code",
   "execution_count": 75,
   "metadata": {
    "colab": {
     "base_uri": "https://localhost:8080/"
    },
    "id": "yvWyYhGWi-jN",
    "outputId": "526d4101-95e3-4c30-92e1-88ad26a0525f"
   },
   "outputs": [
    {
     "name": "stdout",
     "output_type": "stream",
     "text": [
      "377\n"
     ]
    }
   ],
   "source": [
    "# MEMOIZED RECURSION: FIBONACCI EXAMPLE\n",
    "res = {0: 0, 1: 1}\n",
    "def fib(n):\n",
    "    if n in res:\n",
    "        return res[n]\n",
    "    res[n] = fib(n - 1) + fib(n - 2)\n",
    "    return res[n]\n",
    "print(fib(14))"
   ]
  },
  {
   "cell_type": "markdown",
   "metadata": {
    "id": "smBc4ScQO7Jj"
   },
   "source": [
    "####  MEMOIZED RECURSION: LONGEST INCREASING SUBSEQUENCE EXAMPLE"
   ]
  },
  {
   "cell_type": "code",
   "execution_count": 76,
   "metadata": {
    "colab": {
     "base_uri": "https://localhost:8080/"
    },
    "id": "xhYDWDLdkRdl",
    "outputId": "e17c41b1-95ae-4015-b269-251ec640a29c"
   },
   "outputs": [
    {
     "name": "stdout",
     "output_type": "stream",
     "text": [
      "  i   num_list[i]    lis_including(i)\n",
      "  0           19                   1\n",
      "  1           51                   2\n",
      "  2           58                   3\n",
      "  3           58                   3\n",
      "  4            3                   1\n",
      "  5           99                   4\n",
      "  6            0                   1\n",
      "  7           58                   3\n",
      "  8           63                   4\n",
      "  9           53                   3\n",
      " 10           90                   5\n",
      " 11           48                   2\n",
      " 12           44                   2\n",
      " 13           25                   2\n",
      " 14           51                   3\n",
      "Result = 5\n"
     ]
    }
   ],
   "source": [
    "# MEMOIZED RECURSION: LONGEST INCREASING SUBSEQUENCE EXAMPLE\n",
    "from random import randint\n",
    "num_list = [randint(0, 100) for i in range(15)]\n",
    " \n",
    "res = {0: 1}\n",
    "def lis_including(i):\n",
    "    if i in res:\n",
    "        return res[i]\n",
    "    max_lis = 1\n",
    "    for j in range(i):\n",
    "        if num_list[j] < num_list[i]:\n",
    "            max_lis = max(max_lis, 1 + lis_including(j))\n",
    "    res[i] = max_lis\n",
    "    return max_lis\n",
    " \n",
    "print('  i   num_list[i]    lis_including(i)')\n",
    "for i in range(15):\n",
    "    print('%3i%13i%20i' % (i, num_list[i], lis_including(i)))\n",
    "print('Result =', max([lis_including(i) for i in range(15)]))"
   ]
  },
  {
   "cell_type": "markdown",
   "metadata": {
    "id": "Vcz1ReWNpEDP"
   },
   "source": [
    "##  TUPLES"
   ]
  },
  {
   "cell_type": "markdown",
   "metadata": {
    "id": "UlXQaHPFPCBb"
   },
   "source": [
    "###  TUPLE EXAMPLES"
   ]
  },
  {
   "cell_type": "code",
   "execution_count": 77,
   "metadata": {
    "colab": {
     "base_uri": "https://localhost:8080/"
    },
    "id": "Ssb12F_GpGD7",
    "outputId": "1f246b66-d2f1-44e0-8f14-8ff098de3ff0"
   },
   "outputs": [
    {
     "name": "stdout",
     "output_type": "stream",
     "text": [
      "(3, 5, 7)\n",
      "(1,)\n",
      "1\n"
     ]
    }
   ],
   "source": [
    "# TUPLE EXAMPLES\n",
    "print((3, 5, 7))\n",
    "print((1, ))\n",
    "# Warning: Tuple of 1 element must have a comma\n",
    "print((1))"
   ]
  },
  {
   "cell_type": "markdown",
   "metadata": {
    "id": "9QFunwFoPFek"
   },
   "source": [
    "###  TUPLES ARE IMMUTABLE"
   ]
  },
  {
   "cell_type": "code",
   "execution_count": 78,
   "metadata": {
    "colab": {
     "base_uri": "https://localhost:8080/"
    },
    "id": "f1R2iDE8pYTr",
    "outputId": "e8443c8d-aea8-4726-e107-4ccd504f8aac"
   },
   "outputs": [
    {
     "name": "stdout",
     "output_type": "stream",
     "text": [
      "(3, 4, 7)\n"
     ]
    }
   ],
   "source": [
    "# TUPLES ARE IMMUTABLE\n",
    "tup = (3, 4, 7)\n",
    "# tup[0] = 0\n",
    "# TypeError: 'tuple' object does not support item assignment\n",
    "print(tup)"
   ]
  },
  {
   "cell_type": "markdown",
   "metadata": {
    "id": "ga6bR8tdPHFT"
   },
   "source": [
    "###  TUPLE DIRECTORIES"
   ]
  },
  {
   "cell_type": "code",
   "execution_count": 79,
   "metadata": {
    "colab": {
     "base_uri": "https://localhost:8080/"
    },
    "id": "K-X3jW_Epur-",
    "outputId": "b757df2d-2bdc-4439-e3a9-da5760851089"
   },
   "outputs": [
    {
     "name": "stdout",
     "output_type": "stream",
     "text": [
      "['__subclasshook__', 'count', 'index']\n"
     ]
    }
   ],
   "source": [
    "# TUPLE DIRECTORIES\n",
    "print(dir(tuple)[-3:])"
   ]
  },
  {
   "cell_type": "markdown",
   "metadata": {
    "id": "EfaL_HwbPIVr"
   },
   "source": [
    "###  TUPLES AND ASSIGNMENT"
   ]
  },
  {
   "cell_type": "code",
   "execution_count": 80,
   "metadata": {
    "colab": {
     "base_uri": "https://localhost:8080/"
    },
    "id": "P2wH8yi2qHDi",
    "outputId": "017a424e-74b6-4507-dd76-e9fda9bc5203"
   },
   "outputs": [
    {
     "name": "stdout",
     "output_type": "stream",
     "text": [
      "a = 3\n",
      "b = 5\n",
      "x = 6\n",
      "y = 9\n"
     ]
    }
   ],
   "source": [
    "# TUPLES AND ASSIGNMENT\n",
    "a, b = (3, 5)\n",
    "print('a = %i\\nb = %i' % (a, b))\n",
    "x, y = 6, 9\n",
    "print('x = %i\\ny = %i' % (x, y))"
   ]
  },
  {
   "cell_type": "markdown",
   "metadata": {
    "id": "7mt2OP-FPJWs"
   },
   "source": [
    "###  TUPLE AS RETURN VALUES"
   ]
  },
  {
   "cell_type": "code",
   "execution_count": 81,
   "metadata": {
    "colab": {
     "base_uri": "https://localhost:8080/"
    },
    "id": "jU5ydGElquiF",
    "outputId": "b7b641a5-d87c-48c8-844d-a2cbb92900fc"
   },
   "outputs": [
    {
     "name": "stdout",
     "output_type": "stream",
     "text": [
      "(3, 4)\n",
      "[22, 29, 94, 93, 53, 28, 65, 55, 34, 99, 12, 36, 87, 59, 58]\n",
      "(99, 9)\n"
     ]
    }
   ],
   "source": [
    "# TUPLE AS RETURN VALUES\n",
    "print(divmod(100, 32))\n",
    "\n",
    "def max_and_index(lst):\n",
    "    index = 0\n",
    "    for i in range(1, 15):\n",
    "        if lst[i] > lst[index]:\n",
    "            index = i\n",
    "    return lst[index], index\n",
    "\n",
    "\n",
    "from random import randint\n",
    "num_list = [randint(0, 100) for i in range(15)]\n",
    "print(num_list)\n",
    "print(max_and_index(num_list))"
   ]
  },
  {
   "cell_type": "markdown",
   "metadata": {
    "id": "WPJvpRpvPKof"
   },
   "source": [
    "###  LISTS AND TUPLES"
   ]
  },
  {
   "cell_type": "code",
   "execution_count": 82,
   "metadata": {
    "colab": {
     "base_uri": "https://localhost:8080/"
    },
    "id": "YhKOF7UjsnNJ",
    "outputId": "3a731226-ca87-46b6-c741-2ac04475fb5f"
   },
   "outputs": [
    {
     "name": "stdout",
     "output_type": "stream",
     "text": [
      "<zip object at 0x7f361026d500>\n",
      "[('a', 3), ('b', 4), ('c', 5), ('d', 6), ('e', 7)]\n",
      "('a', 3)\n",
      "('b', 4)\n",
      "('c', 5)\n",
      "('d', 6)\n",
      "('e', 7)\n"
     ]
    }
   ],
   "source": [
    "# LISTS AND TUPLES\n",
    "z = zip('abcde', [3, 4, 5, 6, 7, 8, 9, 10])\n",
    "print(z)\n",
    "z = zip('abcde', [3, 4, 5, 6, 7, 8, 9, 10])\n",
    "print(list(z))\n",
    "z = zip('abcde', [3, 4, 5, 6, 7, 8, 9, 10])\n",
    "for pair in z:\n",
    "    print(pair)\n"
   ]
  },
  {
   "cell_type": "markdown",
   "metadata": {
    "id": "D-6uh_7nPMA3"
   },
   "source": [
    "####  `enumerate()`"
   ]
  },
  {
   "cell_type": "code",
   "execution_count": 83,
   "metadata": {
    "colab": {
     "base_uri": "https://localhost:8080/"
    },
    "id": "rX3yV_N8t1qI",
    "outputId": "54a80aaa-2cc8-43c6-f122-facd787895ec"
   },
   "outputs": [
    {
     "name": "stdout",
     "output_type": "stream",
     "text": [
      "0 c\n",
      "1 d\n",
      "2 e\n",
      "3 f\n"
     ]
    }
   ],
   "source": [
    "# enumerate()\n",
    "for ind, c in enumerate('cdef'):\n",
    "    print(ind, c)"
   ]
  },
  {
   "cell_type": "markdown",
   "metadata": {
    "id": "PCN_XczaPSXM"
   },
   "source": [
    "### DICTIONARIES AND TUPLES"
   ]
  },
  {
   "cell_type": "code",
   "execution_count": 84,
   "metadata": {
    "colab": {
     "base_uri": "https://localhost:8080/"
    },
    "id": "UGd9eln_uRTZ",
    "outputId": "19cb8f76-0bd0-4901-f498-c0f12b5e9984"
   },
   "outputs": [
    {
     "name": "stdout",
     "output_type": "stream",
     "text": [
      "dict_items([('h', 4), ('t', 5), ('n', 6), ('m', 7)])\n",
      "{8: 'h', 7: 't', 6: 'n', 5: 'm'}\n"
     ]
    }
   ],
   "source": [
    "# DICTIONARIES AND TUPLES\n",
    "d = {'h': 4, 't': 5, 'n': 6, 'm': 7}\n",
    "print(d.items())\n",
    "l = [(8, 'h'), (7, 't'), (6, 'n'), (5, 'm')]\n",
    "print(dict(l))"
   ]
  },
  {
   "cell_type": "markdown",
   "metadata": {
    "id": "ceFq37eYPUFN"
   },
   "source": [
    "### TUPLE COMPARISON"
   ]
  },
  {
   "cell_type": "code",
   "execution_count": 85,
   "metadata": {
    "colab": {
     "base_uri": "https://localhost:8080/"
    },
    "id": "vl7a8bztvRFQ",
    "outputId": "90254255-80fc-4ab4-a2b8-7ed6aa11c311"
   },
   "outputs": [
    {
     "name": "stdout",
     "output_type": "stream",
     "text": [
      "True\n",
      "True\n",
      "False\n",
      "\n",
      "True\n",
      "False\n"
     ]
    }
   ],
   "source": [
    "# TUPLE COMPARISON\n",
    "print((3, ) < (5, ))\n",
    "print((3, 6) < (5, 1))\n",
    "print((3, 6) < (3, 2))\n",
    "print()\n",
    "print(('Alpha', 0) < ('Beta', 8))\n",
    "print(('Alpha', 0) < ('Alpha', -2))"
   ]
  },
  {
   "cell_type": "markdown",
   "metadata": {
    "id": "AJWg2B10PWG7"
   },
   "source": [
    "###  SORTING EXAMPLE: SORT BY VALUE, NOT KEY"
   ]
  },
  {
   "cell_type": "code",
   "execution_count": 86,
   "metadata": {
    "colab": {
     "base_uri": "https://localhost:8080/"
    },
    "id": "aDaBq89dwD2p",
    "outputId": "154683ea-242c-4820-c997-abac35218e08"
   },
   "outputs": [
    {
     "name": "stdout",
     "output_type": "stream",
     "text": [
      "Sort by key:           ('h', 4) ('m', 7) ('n', 6) ('t', 5)\n",
      "Sort by value, #1 way: ('h', 4) ('t', 5) ('n', 6) ('m', 7)\n",
      "Sort by value, #2 way: ('h', 4) ('t', 5) ('n', 6) ('m', 7)\n"
     ]
    }
   ],
   "source": [
    "# SORTING EXAMPLE: SORT BY VALUE, NOT KEY\n",
    "d = {'h': 4, 't': 5, 'n': 6, 'm': 7}\n",
    "print('Sort by key:          ', *sorted(list(d.items())))\n",
    "\n",
    "print('Sort by value, #1 way:', *sorted(list(d.items()), key = lambda x: x[1]))\n",
    "\n",
    "value_key_list = sorted([(value, key) for key, value in d.items()])\n",
    "sorted_value_list = [(key, value) for value, key in value_key_list]\n",
    "print('Sort by value, #2 way:', *sorted_value_list) "
   ]
  },
  {
   "cell_type": "markdown",
   "metadata": {
    "id": "_gy1XztRySyM"
   },
   "source": [
    "# CHAPTER 6: MODULES"
   ]
  },
  {
   "cell_type": "markdown",
   "metadata": {
    "id": "uK3QpdrhQToS"
   },
   "source": [
    "##  `import` EXAMPLE"
   ]
  },
  {
   "cell_type": "code",
   "execution_count": 87,
   "metadata": {
    "colab": {
     "base_uri": "https://localhost:8080/"
    },
    "id": "bKWGkCfRycQY",
    "outputId": "fcf2f2c1-5c4c-42d3-9f80-cec8ca9aa749"
   },
   "outputs": [
    {
     "name": "stdout",
     "output_type": "stream",
     "text": [
      "2.8284271247461903\n",
      "2.8284271247461903\n",
      "3\n"
     ]
    }
   ],
   "source": [
    "# import EXAMPLE\n",
    "import math\n",
    "print(math.sqrt(8))\n",
    "from math import sqrt\n",
    "print(sqrt(8))\n",
    "from random import *\n",
    "print(randint(3,6))"
   ]
  },
  {
   "cell_type": "markdown",
   "metadata": {
    "id": "oN3GBb_NQXKD"
   },
   "source": [
    "## (preparation)"
   ]
  },
  {
   "cell_type": "markdown",
   "metadata": {
    "id": "uJFEbC1FDDyI"
   },
   "source": [
    "### (preparation) mount"
   ]
  },
  {
   "cell_type": "code",
   "execution_count": 88,
   "metadata": {
    "colab": {
     "base_uri": "https://localhost:8080/"
    },
    "id": "1Tmu1K9y3P4M",
    "outputId": "4359329f-d211-4257-e54f-0b809df8cf6c"
   },
   "outputs": [
    {
     "name": "stdout",
     "output_type": "stream",
     "text": [
      "Mounted at /content/gdrive\n"
     ]
    }
   ],
   "source": [
    "# (preparation) mount\n",
    "from google.colab import drive\n",
    "drive.mount('/content/gdrive')"
   ]
  },
  {
   "cell_type": "markdown",
   "metadata": {
    "id": "vfVHGDjRQeLs"
   },
   "source": [
    "###  (preparation) append path"
   ]
  },
  {
   "cell_type": "code",
   "execution_count": 89,
   "metadata": {
    "colab": {
     "base_uri": "https://localhost:8080/"
    },
    "id": "D7sRoSbR3jqF",
    "outputId": "830dd9fb-ef61-4064-fd53-62573097ce28"
   },
   "outputs": [
    {
     "name": "stdout",
     "output_type": "stream",
     "text": [
      "'/content/gdrive/MyDrive/Colab Notebooks/hello.py'\n",
      "if __name__ == '__main__':\n",
      "    print('Hello?')"
     ]
    }
   ],
   "source": [
    "# (preparation) append path\n",
    "!ls /content/gdrive/MyDrive/Colab\\ Notebooks/hello.py\n",
    "!cat /content/gdrive/MyDrive/Colab\\ Notebooks/hello.py\n",
    "import sys\n",
    "sys.path.append('/content/gdrive/MyDrive/Colab Notebooks')"
   ]
  },
  {
   "cell_type": "markdown",
   "metadata": {
    "id": "v0EX7DvCQnwp"
   },
   "source": [
    "##  MODULES AS SCRIPTS"
   ]
  },
  {
   "cell_type": "code",
   "execution_count": 90,
   "metadata": {
    "colab": {
     "base_uri": "https://localhost:8080/"
    },
    "id": "ArGm5mcsyymm",
    "outputId": "6f13ee3e-75f3-4202-8957-07266a8c6049"
   },
   "outputs": [
    {
     "name": "stdout",
     "output_type": "stream",
     "text": [
      "Script in \"hello.py\":\n",
      "---------------------------------\n",
      "if __name__ == '__main__':\n",
      "    print('Hello?') \n",
      "---------------------------------\n",
      "Hello?\n"
     ]
    }
   ],
   "source": [
    "# MODULES AS SCRIPTS\n",
    "hello_path = '/content/gdrive/MyDrive/Colab Notebooks/hello.py'\n",
    "\n",
    "print('Script in \"hello.py\":\\n---------------------------------')\n",
    "f = open(hello_path, 'r')\n",
    "print(f.read(), '\\n---------------------------------')\n",
    "f.close()\n",
    "\n",
    "! python '/content/gdrive/MyDrive/Colab Notebooks/hello.py'"
   ]
  },
  {
   "cell_type": "markdown",
   "metadata": {
    "id": "sBLQBbLuQsaB"
   },
   "source": [
    "##  `__name__`"
   ]
  },
  {
   "cell_type": "code",
   "execution_count": 91,
   "metadata": {
    "colab": {
     "base_uri": "https://localhost:8080/"
    },
    "id": "wic3G-se0QQl",
    "outputId": "44ab755d-9c9d-4c6e-ae5b-730f5c65e42f"
   },
   "outputs": [
    {
     "name": "stdout",
     "output_type": "stream",
     "text": [
      "before import\n",
      "after import\n",
      "hello\n"
     ]
    }
   ],
   "source": [
    "# __name__\n",
    "print('before import')\n",
    "import hello\n",
    "print('after import')\n",
    "print(hello.__name__)"
   ]
  },
  {
   "cell_type": "markdown",
   "metadata": {
    "id": "sdZTUVNmQ9nC"
   },
   "source": [
    "## `sys.argv[]`"
   ]
  },
  {
   "cell_type": "code",
   "execution_count": 92,
   "metadata": {
    "colab": {
     "base_uri": "https://localhost:8080/"
    },
    "id": "9D8jW7Cg7B6z",
    "outputId": "fcf43270-d21f-42b7-cda7-34a65ee57c8b"
   },
   "outputs": [
    {
     "name": "stdout",
     "output_type": "stream",
     "text": [
      "Script in \"sumof2module.py\":\n",
      "---------------------------------\n",
      "if __name__ == '__main__':\n",
      "    import sys\n",
      "    print(int(sys.argv[1]) + int(sys.argv[2])) \n",
      "---------------------------------\n",
      "17\n"
     ]
    }
   ],
   "source": [
    "# sys.argv[]\n",
    "sum_path = '/content/gdrive/MyDrive/Colab Notebooks/sumof2module.py'\n",
    "print('Script in \"sumof2module.py\":\\n---------------------------------')\n",
    "f = open(sum_path, 'r')\n",
    "print(f.read(), '\\n---------------------------------')\n",
    "f.close()\n",
    "! python '/content/gdrive/MyDrive/Colab Notebooks/sumof2module.py' 8 9"
   ]
  },
  {
   "cell_type": "markdown",
   "metadata": {
    "id": "u6WccnB8RFjK"
   },
   "source": [
    "##  USEFUL MODULES: BASIC EXAMPLES"
   ]
  },
  {
   "cell_type": "code",
   "execution_count": 93,
   "metadata": {
    "colab": {
     "base_uri": "https://localhost:8080/"
    },
    "id": "1fqSnOh97xZD",
    "outputId": "be40257d-cea8-403e-c98b-2e2798be0f78"
   },
   "outputs": [
    {
     "name": "stdout",
     "output_type": "stream",
     "text": [
      "2021-07-06 05:33:41.722809\n",
      "40320\n",
      "[2.80954616 2.6487932  0.76794196 2.57954541 2.10164417 1.11323107]\n",
      "[2.80954616 2.6487932  2.57954541 2.10164417]\n"
     ]
    }
   ],
   "source": [
    "# USEFUL MODULES: BASIC EXAMPLES\n",
    "''' Find out more in: (ctrl + click to open)\n",
    "https://docs.python.org/3/library/random.html\n",
    "https://docs.python.org/3/library/datetime.html\n",
    "https://docs.python.org/3/library/math.html\n",
    "https://numpy.org/doc/\n",
    "'''\n",
    "\n",
    "import random \n",
    "import datetime \n",
    "import math\n",
    "import numpy\n",
    "\n",
    "print(datetime.datetime.now())\n",
    "print(math.factorial(8))\n",
    "\n",
    "np_arr = numpy.array([random.uniform(0, 3) for i in range(6)])\n",
    "print(np_arr)\n",
    "# print values which are > 1.5\n",
    "print(np_arr[np_arr > 1.5])"
   ]
  },
  {
   "cell_type": "markdown",
   "metadata": {
    "id": "pxdrGDJtFp5Y"
   },
   "source": [
    "##  `pickle` MODULE"
   ]
  },
  {
   "cell_type": "markdown",
   "metadata": {
    "id": "iWziCX12F3Cv"
   },
   "source": [
    "###  IMPORT `pickle`"
   ]
  },
  {
   "cell_type": "code",
   "execution_count": 94,
   "metadata": {
    "id": "cQfmrtg7Ft0Z"
   },
   "outputs": [],
   "source": [
    "# IMPORT pickle\n",
    "import pickle as pkl"
   ]
  },
  {
   "cell_type": "markdown",
   "metadata": {
    "id": "-8pEiHsWHZzs"
   },
   "source": [
    "###  `dump()`"
   ]
  },
  {
   "cell_type": "code",
   "execution_count": 95,
   "metadata": {
    "id": "SmRRS3ZsG0gl"
   },
   "outputs": [],
   "source": [
    "# dump()\n",
    "sample_pkl_path = '/content/gdrive/MyDrive/Colab Notebooks/sample_pkl.pkl'\n",
    "lst = [3, 5, 0, 8]\n",
    "with open(sample_pkl_path, 'wb') as f:\n",
    "    # 'wb' = write byte, see more below, in Chapter 7: FILES\n",
    "    pkl.dump(lst, f)"
   ]
  },
  {
   "cell_type": "markdown",
   "metadata": {
    "id": "V4Ct1dnOHmN0"
   },
   "source": [
    "###  `load()`"
   ]
  },
  {
   "cell_type": "code",
   "execution_count": 96,
   "metadata": {
    "colab": {
     "base_uri": "https://localhost:8080/"
    },
    "id": "VoGofxBLHl7n",
    "outputId": "bfcf6217-d4d7-4e06-f8d2-070d0d7ac52c"
   },
   "outputs": [
    {
     "name": "stdout",
     "output_type": "stream",
     "text": [
      "[3, 5, 0, 8]\n"
     ]
    }
   ],
   "source": [
    "# load()\n",
    "with open(sample_pkl_path, 'rb') as f:\n",
    "    # 'rb' = read byte, see more below, in Chapter 7: FILES\n",
    "    loaded_content = pkl.load(f)\n",
    "print(loaded_content)"
   ]
  },
  {
   "cell_type": "markdown",
   "metadata": {
    "id": "otO3nGbmD_48"
   },
   "source": [
    "# CHAPTER 7: FILES"
   ]
  },
  {
   "cell_type": "markdown",
   "metadata": {
    "id": "jkYH1QrORN7R"
   },
   "source": [
    "##  OPENING A FILE"
   ]
  },
  {
   "cell_type": "code",
   "execution_count": 97,
   "metadata": {
    "id": "JO79ScMqECuw"
   },
   "outputs": [],
   "source": [
    "# OPENING A FILE\n",
    "f = open(hello_path, 'r')\n",
    "# 'r' reading | 'w' writing | 'a' appending | 'r+' both reading and writing"
   ]
  },
  {
   "cell_type": "markdown",
   "metadata": {
    "id": "yXD0beCqRPw5"
   },
   "source": [
    "## LOOP OVER A FILE"
   ]
  },
  {
   "cell_type": "code",
   "execution_count": 98,
   "metadata": {
    "colab": {
     "base_uri": "https://localhost:8080/"
    },
    "id": "B6Q-lIldEY6O",
    "outputId": "b04666cd-2014-419a-c0cd-361ff3398b45"
   },
   "outputs": [
    {
     "name": "stdout",
     "output_type": "stream",
     "text": [
      "if __name__ == '__main__':\n",
      "    print('Hello?')"
     ]
    }
   ],
   "source": [
    "# LOOP OVER A FILE\n",
    "for line in f:\n",
    "    print(line, end = '')\n",
    "f.close()"
   ]
  },
  {
   "cell_type": "markdown",
   "metadata": {
    "id": "PwDE86sKRRu5"
   },
   "source": [
    "##  READ WHOLE FILE"
   ]
  },
  {
   "cell_type": "code",
   "execution_count": 99,
   "metadata": {
    "colab": {
     "base_uri": "https://localhost:8080/"
    },
    "id": "6dRvpQWLEmhW",
    "outputId": "e9b76e73-9f2c-4488-a6db-043bac611877"
   },
   "outputs": [
    {
     "name": "stdout",
     "output_type": "stream",
     "text": [
      "if __name__ == '__main__':\n",
      "    print('Hello?')\n"
     ]
    }
   ],
   "source": [
    "# READ WHOLE FILE\n",
    "f = open(hello_path, 'r')\n",
    "print(f.read())\n",
    "f.close()"
   ]
  },
  {
   "cell_type": "markdown",
   "metadata": {
    "id": "nUBZaBHART5C"
   },
   "source": [
    "##  `with` BLOCK"
   ]
  },
  {
   "cell_type": "code",
   "execution_count": 100,
   "metadata": {
    "colab": {
     "base_uri": "https://localhost:8080/"
    },
    "id": "rhvf2_QvFQa-",
    "outputId": "1769da21-f2f7-4cbe-f9b0-8daf077bd9e9"
   },
   "outputs": [
    {
     "name": "stdout",
     "output_type": "stream",
     "text": [
      "if __name__ == '__main__':\n",
      "    print('Hello?')\n",
      "True\n"
     ]
    }
   ],
   "source": [
    "# with BLOCK\n",
    "with open(hello_path, 'r') as f:\n",
    "    print(f.read())\n",
    "print(f.closed)"
   ]
  },
  {
   "cell_type": "markdown",
   "metadata": {
    "id": "KJJDC7DhRVQS"
   },
   "source": [
    "##  WRITING FILES"
   ]
  },
  {
   "cell_type": "code",
   "execution_count": 101,
   "metadata": {
    "colab": {
     "base_uri": "https://localhost:8080/"
    },
    "id": "OOIvt78TGnOe",
    "outputId": "d632c9cf-154c-4450-e31a-2774eeea65e8"
   },
   "outputs": [
    {
     "name": "stdout",
     "output_type": "stream",
     "text": [
      "Write this line to the file\n"
     ]
    }
   ],
   "source": [
    "# WRITING FILES\n",
    "write_path = '/content/gdrive/MyDrive/Colab Notebooks/writeout.txt'\n",
    "with open(write_path, 'w') as f:\n",
    "    f.write('Write this line to the file')\n",
    "with open(write_path, 'r') as f:\n",
    "    print(f.read())"
   ]
  },
  {
   "cell_type": "markdown",
   "metadata": {
    "id": "g52YkYkoRW9V"
   },
   "source": [
    "##  CURRENT POSITION"
   ]
  },
  {
   "cell_type": "code",
   "execution_count": 102,
   "metadata": {
    "colab": {
     "base_uri": "https://localhost:8080/"
    },
    "id": "1F0lxpcRHRj9",
    "outputId": "2bbf6b2b-b17b-45c5-bd42-23d52b3856f1"
   },
   "outputs": [
    {
     "name": "stdout",
     "output_type": "stream",
     "text": [
      "0\n",
      "Write this line to the file\n",
      "27\n"
     ]
    }
   ],
   "source": [
    "# CURRENT POSITION\n",
    "with open(write_path, 'r') as f:\n",
    "    print(f.tell())\n",
    "    print(f.read())\n",
    "    print(f.tell())"
   ]
  },
  {
   "cell_type": "markdown",
   "metadata": {
    "id": "o1rvUY9URYRJ"
   },
   "source": [
    "## CHANGE POSITION"
   ]
  },
  {
   "cell_type": "code",
   "execution_count": 103,
   "metadata": {
    "colab": {
     "base_uri": "https://localhost:8080/"
    },
    "id": "16PL70QPHoyM",
    "outputId": "118d8bfb-abaf-4333-9534-c7ee33304c35"
   },
   "outputs": [
    {
     "name": "stdout",
     "output_type": "stream",
     "text": [
      "0\n",
      "13\n",
      "ne to the file\n",
      "27\n"
     ]
    }
   ],
   "source": [
    "# CHANGE POSITION\n",
    "# https://www.tutorialspoint.com/python/file_seek.htm\n",
    "with open(write_path, 'r') as f:\n",
    "    print(f.tell())\n",
    "    f.seek(13)\n",
    "    print(f.tell())\n",
    "    print(f.read())\n",
    "    print(f.tell())"
   ]
  },
  {
   "cell_type": "markdown",
   "metadata": {
    "id": "OhIfThxnLDwn"
   },
   "source": [
    "# CHAPTER 8: OBJECT-ORIENTED PROGRAMMING (OOP)"
   ]
  },
  {
   "cell_type": "markdown",
   "metadata": {
    "id": "puFbl-asLi1t"
   },
   "source": [
    "##  CREATE A NEW OBJECT EXAMPLE"
   ]
  },
  {
   "cell_type": "code",
   "execution_count": 104,
   "metadata": {
    "id": "yRXsyuvqLYlu"
   },
   "outputs": [],
   "source": [
    "# CREATE A NEW OBJECT EXAMPLE\n",
    "#     name of class (parent class(es))\n",
    "class Complex_number(object):\n",
    "    # __init__ always run right after calling the class\n",
    "    def __init__(self, a, b):\n",
    "        # real and imaginary are attributes\n",
    "        self.real = a\n",
    "        self.imaginary = b\n",
    "\n",
    "    # a method is a function of the class\n",
    "    def modulus(self):\n",
    "        from math import sqrt\n",
    "        return sqrt(self.real ** 2 + self.imaginary ** 2)\n",
    "\n",
    "    # __str__ is a method which returns (str(an instance))\n",
    "    def __str__(self):\n",
    "        return 'Complex number (%s + %si)' % (self.real, self.imaginary)\n",
    "\n",
    "    # __add__ is a method which returns (an instance + another instance)\n",
    "    def __add__(self, other):\n",
    "        return Complex_number(self.real + other.real, self.imaginary + other.imaginary)\n",
    "\n",
    "    # __sub__ is a method which returns (an instance - another instance)\n",
    "    def __sub__(self, other):\n",
    "        return Complex_number(self.real - other.real, self.imaginary - other.imaginary)\n",
    "\n",
    "    # __eq__ is a method which returns (an instance == another instance)\n",
    "    def __eq__(self, other):\n",
    "        return self.real == other.real and self.imaginary == other.imaginary\n",
    "\n",
    "    # The most common used methods for a class, in short:\n",
    "    # __doc__: docstring  |  __name__: name  |  __del__: delete\n",
    "    # __lt__: \"<\"  |  __le__: \"<=\"  |  __ne__: \"!=\"\n",
    "    # __gt__: \">\"  |  __ge__: \">=\"\n",
    "    # __dir__: dir(an object or an instance)\n",
    "    '''\n",
    "    object.__add__(self, other)\n",
    "    object.__sub__(self, other)\n",
    "    object.__mul__(self, other)\n",
    "    object.__matmul__(self, other)\n",
    "    object.__truediv__(self, other)\n",
    "    object.__floordiv__(self, other)\n",
    "    object.__mod__(self, other)\n",
    "    object.__divmod__(self, other)\n",
    "    object.__pow__(self, other[, modulo])\n",
    "    object.__lshift__(self, other)\n",
    "    object.__rshift__(self, other)\n",
    "    object.__and__(self, other)¶\n",
    "    object.__xor__(self, other)\n",
    "    object.__or__(self, other)\n",
    "    '''\n",
    "\n",
    "    # There are so many more methods for a class that you should find them out\n",
    "    # yourself, this is the documentation of data model in Python:\n",
    "    # https://docs.python.org/3/reference/datamodel.html\n",
    "    \n",
    "    # I found that the @abstractmethod decorator is not really important for the \n",
    "    # final exam, since we didn't learn any thing about decorator in Python,\n",
    "    # so if you are curious enough, this is the documentation of abc:\n",
    "    # https://docs.python.org/3/library/abc.html"
   ]
  },
  {
   "cell_type": "markdown",
   "metadata": {
    "id": "CPml-CnZNBPO"
   },
   "source": [
    "###  USING THE OBJECT EXAMPLES"
   ]
  },
  {
   "cell_type": "code",
   "execution_count": 105,
   "metadata": {
    "colab": {
     "base_uri": "https://localhost:8080/"
    },
    "id": "lC1_gumWNABP",
    "outputId": "439a4bf6-f0d0-4ab6-95c3-160aa3732b7a"
   },
   "outputs": [
    {
     "name": "stdout",
     "output_type": "stream",
     "text": [
      "6 9\n",
      "10.816653826391969\n",
      "Complex number (6 + 9i)\n"
     ]
    }
   ],
   "source": [
    "# USING THE OBJECT EXAMPLES\n",
    "z1 = Complex_number(6, 9)\n",
    "print(z1.real, z1.imaginary)\n",
    "print(z1.modulus())\n",
    "print(z1)"
   ]
  },
  {
   "cell_type": "code",
   "execution_count": 106,
   "metadata": {
    "colab": {
     "base_uri": "https://localhost:8080/"
    },
    "id": "8F5_8nUIOUDM",
    "outputId": "5ca26bf5-657f-4de4-b6c3-5bf32a34134f"
   },
   "outputs": [
    {
     "name": "stdout",
     "output_type": "stream",
     "text": [
      "2.8 9.2\n",
      "9.616652224137045\n",
      "Complex number (2.8 + 9.2i)\n"
     ]
    }
   ],
   "source": [
    "# USING THE OBJECT EXAMPLES\n",
    "z2 = Complex_number(2.8, 9.2)\n",
    "print(z2.real, z2.imaginary)\n",
    "print(z2.modulus())\n",
    "print(z2)"
   ]
  },
  {
   "cell_type": "code",
   "execution_count": 107,
   "metadata": {
    "colab": {
     "base_uri": "https://localhost:8080/"
    },
    "id": "hA-x9fBuPS_c",
    "outputId": "4add6719-52cb-4e21-a6d2-a645b6aa17e5"
   },
   "outputs": [
    {
     "name": "stdout",
     "output_type": "stream",
     "text": [
      "Complex number (8.8 + 18.2i)\n",
      "Complex number (3.2 + -0.1999999999999993i)\n"
     ]
    }
   ],
   "source": [
    "# USING THE OBJECT EXAMPLES\n",
    "print(z1 + z2)\n",
    "print(z1 - z2)\n",
    "# What? Why it is -0.1999999999999993? Find out at:\n",
    "# https://stackoverflow.com/questions/588004/is-floating-point-math-broken"
   ]
  },
  {
   "cell_type": "code",
   "execution_count": 108,
   "metadata": {
    "colab": {
     "base_uri": "https://localhost:8080/"
    },
    "id": "jDjUV69ERpEz",
    "outputId": "dab3ed8b-6aa2-4aac-f392-a2b65155641c"
   },
   "outputs": [
    {
     "name": "stdout",
     "output_type": "stream",
     "text": [
      "False\n",
      "True\n"
     ]
    }
   ],
   "source": [
    "# USING THE OBJECT EXAMPLES\n",
    "print(z1 == z2)\n",
    "z3 = Complex_number(6, 9) \n",
    "print(z1 == z3)"
   ]
  },
  {
   "cell_type": "markdown",
   "metadata": {
    "id": "2qlPhYcJTgNf"
   },
   "source": [
    "##  SUBCLASS"
   ]
  },
  {
   "cell_type": "code",
   "execution_count": 109,
   "metadata": {
    "id": "824WM-DmTYuk"
   },
   "outputs": [],
   "source": [
    "# SUBCLASS\n",
    "# You can re-define any method of Complex_number, or\n",
    "# add new methods, new attributes in Imaginary_number\n",
    "class Imaginary_number(Complex_number):\n",
    "    def __init__(self, *args): \n",
    "        if len(args) == 1:\n",
    "            self.removed_real_part = None\n",
    "            imaginary_part = args[0]\n",
    "        else: # len(args) == 2\n",
    "            self.removed_real_part = args[0]\n",
    "            imaginary_part = args[1]\n",
    "\n",
    "        # 2 ways to initialize:\n",
    "        # super().__init__(0, imaginary_part)\n",
    "        Complex_number.__init__(self, 0, imaginary_part)\n",
    "\n",
    "    def __str__(self):\n",
    "        return 'Imaginary number (%si)' % (self.imaginary)"
   ]
  },
  {
   "cell_type": "markdown",
   "metadata": {
    "id": "jwEp33k-V0J-"
   },
   "source": [
    "###  USING THE SUBCLASS EXAMPLES"
   ]
  },
  {
   "cell_type": "code",
   "execution_count": 110,
   "metadata": {
    "colab": {
     "base_uri": "https://localhost:8080/"
    },
    "id": "A6SuRRkiUxGW",
    "outputId": "4a7a4d7d-1014-4e3f-ad63-3a9523f6b279"
   },
   "outputs": [
    {
     "name": "stdout",
     "output_type": "stream",
     "text": [
      "Imaginary number (8i)\n",
      "Removed real part: 3\n",
      "Modulus: 8.0\n"
     ]
    }
   ],
   "source": [
    "# USING THE SUBCLASS EXAMPLES\n",
    "img1 = Imaginary_number(3, 8)\n",
    "print(img1)\n",
    "print('Removed real part:', img1.removed_real_part)\n",
    "print('Modulus:', img1.modulus())"
   ]
  },
  {
   "cell_type": "code",
   "execution_count": 111,
   "metadata": {
    "colab": {
     "base_uri": "https://localhost:8080/"
    },
    "id": "lYgKRZpme7SQ",
    "outputId": "737f4fc5-dbed-4ad9-d209-b14eb121c933"
   },
   "outputs": [
    {
     "name": "stdout",
     "output_type": "stream",
     "text": [
      "Imaginary number (4i)\n",
      "Removed real part: None\n",
      "Modulus: 4.0\n"
     ]
    }
   ],
   "source": [
    "# USING THE SUBCLASS EXAMPLES\n",
    "img2 = Imaginary_number(4)\n",
    "print(img2)\n",
    "print('Removed real part:', img2.removed_real_part)\n",
    "print('Modulus:', img2.modulus())"
   ]
  },
  {
   "cell_type": "markdown",
   "metadata": {
    "id": "pzePduBEai0n"
   },
   "source": [
    "# CHAPTER 9: TESTING, DEBUGGING, EXCEPTIONS AND ASSERTIONS"
   ]
  },
  {
   "cell_type": "markdown",
   "metadata": {
    "id": "gh7rBDPJo9h5"
   },
   "source": [
    "## TESTING AND DEBUGGING"
   ]
  },
  {
   "cell_type": "code",
   "execution_count": 112,
   "metadata": {
    "id": "prIZSF-LazXu"
   },
   "outputs": [],
   "source": [
    "# TESTING AND DEBUGGING\n",
    "# By now, you have done this every time an error occurs in your code,\n",
    "# so this is pretty both too easy and too hard to be explained\n",
    "# in this notebook. Therefore, I will not explain about it here."
   ]
  },
  {
   "cell_type": "markdown",
   "metadata": {
    "id": "ECirOaQHtI9r"
   },
   "source": [
    "##  EXCEPTIONS"
   ]
  },
  {
   "cell_type": "markdown",
   "metadata": {
    "id": "enePJtg6wBKT"
   },
   "source": [
    "###  COMMON BUILT-IN EXCEPTIONS"
   ]
  },
  {
   "cell_type": "code",
   "execution_count": 113,
   "metadata": {
    "id": "dULr-V98tHy7"
   },
   "outputs": [],
   "source": [
    "# COMMON BUILT-IN EXCEPTIONS\n",
    "lst = [0, 1, 2]\n",
    "# print(lst[4])\n",
    "# IndexError: list index out of range\n",
    "\n",
    "# print(int(lst))\n",
    "# TypeError: int() argument must be a string, a bytes-like object or a number, not 'list'\n",
    "\n",
    "# print(an_undefined_a_variable)\n",
    "# NameError: name 'an_undefined_a_variable' is not defined\n",
    "\n",
    "# print(a\n",
    "#\n",
    "#     print(a\n",
    "#            ^\n",
    "# SyntaxError: unexpected EOF while parsing\n",
    "\n",
    "# print(lst.mnpq)\n",
    "# AttributeError: 'list' object has no attribute 'mnpq'\n",
    "\n",
    "# print(6 / 0)\n",
    "# ZeroDivisionError: division by zero\n",
    "\n",
    "# print(int('?'))\n",
    "# ValueError: invalid literal for int() with base 10: '?'\n",
    "\n",
    "# f = open('????')\n",
    "# FileNotFoundError: [Errno 2] No such file or directory: '????'"
   ]
  },
  {
   "cell_type": "markdown",
   "metadata": {
    "id": "tdwpchw7wUat"
   },
   "source": [
    "###  (INPUT) HANDLING SPECIFIC EXCEPTIONS"
   ]
  },
  {
   "cell_type": "code",
   "execution_count": 114,
   "metadata": {
    "colab": {
     "base_uri": "https://localhost:8080/"
    },
    "id": "6cV5a13auGqQ",
    "outputId": "d9b93c28-2439-4183-8db6-f7d68dff215d"
   },
   "outputs": [
    {
     "name": "stdout",
     "output_type": "stream",
     "text": [
      "a = 4\n",
      "b = 8\n",
      "0.5\n",
      "Done\n"
     ]
    }
   ],
   "source": [
    "# HANDLING SPECIFIC EXCEPTIONS\n",
    "try:\n",
    "    a = float(input('a = '))\n",
    "    b = float(input('b = '))\n",
    "    res = a / b\n",
    "\n",
    "except ValueError: # Handling a specific exception in try clause\n",
    "    print('Unable to convert to number')\n",
    "except ZeroDivisionError:\n",
    "    print('Unable to divide by 0')\n",
    "\n",
    "except: # Handling any other exception in try clause\n",
    "    print('Another error')\n",
    "\n",
    "else: # Only execute if the try clause does not raise any exception\n",
    "    print(res)\n",
    "\n",
    "finally: # Always execute\n",
    "    print('Done')\n",
    "\n",
    "    '''\n",
    "a = sfgopsgspg\n",
    "Unable to convert to number\n",
    "Done\n",
    "\n",
    "a = 4\n",
    "b = 0\n",
    "Unable to divide by 0\n",
    "Done\n",
    "\n",
    "a = 4\n",
    "b = 8\n",
    "0.5\n",
    "Done\n",
    "    '''"
   ]
  },
  {
   "cell_type": "markdown",
   "metadata": {
    "id": "ncafXK_M_c7I"
   },
   "source": [
    "###  `raise` AN EXCEPTION"
   ]
  },
  {
   "cell_type": "code",
   "execution_count": 115,
   "metadata": {
    "id": "jHTIyGc_91S1"
   },
   "outputs": [],
   "source": [
    "# raise AN EXCEPTION\n",
    "# raise ValueError('This is a value exception')\n",
    "\n",
    "# ---------------------------------------------------------------------------\n",
    "# ValueError                                Traceback (most recent call last)\n",
    "# <ipython-input-116-d1990690242c> in <module>()\n",
    "# ----> 1 raise ValueError('This is a value exception')\n",
    "#\n",
    "# ValueError: This is a value exception"
   ]
  },
  {
   "cell_type": "markdown",
   "metadata": {
    "id": "knSTsU4GACDK"
   },
   "source": [
    "###  (INPUT) DEFINE AN EXCEPTION"
   ]
  },
  {
   "cell_type": "code",
   "execution_count": 116,
   "metadata": {
    "colab": {
     "base_uri": "https://localhost:8080/",
     "height": 248
    },
    "id": "hriWIBoxAAB8",
    "outputId": "c08f9647-6241-4b31-eb36-059bd0cad968"
   },
   "outputs": [
    {
     "name": "stdout",
     "output_type": "stream",
     "text": [
      "Date = 30-12-200x\n"
     ]
    },
    {
     "ename": "DateFormatError",
     "evalue": "ignored",
     "output_type": "error",
     "traceback": [
      "\u001b[0;31m---------------------------------------------------------------------------\u001b[0m",
      "\u001b[0;31mDateFormatError\u001b[0m                           Traceback (most recent call last)",
      "\u001b[0;32m<ipython-input-116-ef183afc2b5a>\u001b[0m in \u001b[0;36m<module>\u001b[0;34m()\u001b[0m\n\u001b[1;32m     33\u001b[0m \u001b[0;32mif\u001b[0m \u001b[0;32mnot\u001b[0m \u001b[0mnumeric_check\u001b[0m\u001b[0;34m(\u001b[0m\u001b[0mdate\u001b[0m\u001b[0;34m)\u001b[0m\u001b[0;34m:\u001b[0m\u001b[0;34m\u001b[0m\u001b[0;34m\u001b[0m\u001b[0m\n\u001b[1;32m     34\u001b[0m     raise DateFormatError(\n\u001b[0;32m---> 35\u001b[0;31m             'At least one of 3 arguments is not numeric')\n\u001b[0m\u001b[1;32m     36\u001b[0m \u001b[0;32mif\u001b[0m \u001b[0;32mnot\u001b[0m \u001b[0margs_len_check\u001b[0m\u001b[0;34m(\u001b[0m\u001b[0mdate\u001b[0m\u001b[0;34m)\u001b[0m\u001b[0;34m:\u001b[0m\u001b[0;34m\u001b[0m\u001b[0;34m\u001b[0m\u001b[0m\n\u001b[1;32m     37\u001b[0m     raise DateFormatError(\n",
      "\u001b[0;31mDateFormatError\u001b[0m: At least one of 3 arguments is not numeric"
     ]
    }
   ],
   "source": [
    "# DEFINE AN EXCEPTION\n",
    "class DateFormatError(Exception):\n",
    "    pass\n",
    "\n",
    "# Raise the exception if the string is not of the format '??-??-????'\n",
    "# ? is a number, from 0-9\n",
    "\n",
    "def num_args_check(date):\n",
    "    dmy_lst = date.split('-')\n",
    "    if len(dmy_lst) == 3:\n",
    "        return True\n",
    "    return False\n",
    "\n",
    "def numeric_check(date):\n",
    "    dmy_lst = date.split('-')\n",
    "    for arg in dmy_lst:\n",
    "        if not arg.isnumeric():\n",
    "            return False\n",
    "    return True\n",
    "\n",
    "def args_len_check(date):\n",
    "    dmy_lst = date.split('-')\n",
    "    len_lst = [len(dmy_lst[i]) for i in range(3)]\n",
    "    if tuple(len_lst) == (2, 2, 4):\n",
    "        return True\n",
    "    return False\n",
    "\n",
    "date = input('Date = ')\n",
    "\n",
    "if not num_args_check(date):\n",
    "    raise DateFormatError(\n",
    "            'There must be 3 arguments for day-month-year, respectively')\n",
    "if not numeric_check(date):\n",
    "    raise DateFormatError(\n",
    "            'At least one of 3 arguments is not numeric')\n",
    "if not args_len_check(date):\n",
    "    raise DateFormatError(\n",
    "            'len() of 3 arguments must be 2, 2, 4, respectively')\n",
    "    \n",
    "print('The date is: %s' % date)\n",
    "\n",
    "'''\n",
    "Date = 66-99-6969\n",
    "The date is: 66-99-6969\n",
    "\n",
    "Date = 41-14-6161-3\n",
    "DateFormatError: There must be 3 arguments for day-month-year, respectively\n",
    "\n",
    "Date = 1-12-4251\n",
    "DateFormatError: len() of 3 arguments must be 2, 2, 4, respectively\n",
    "\n",
    "Date = 30-12-200x\n",
    "DateFormatError: At least one of 3 arguments is not numeric\n",
    "'''\n",
    "pass"
   ]
  },
  {
   "cell_type": "markdown",
   "metadata": {
    "id": "ZfcZuNtaG282"
   },
   "source": [
    "###  `unittest` MODULE"
   ]
  },
  {
   "cell_type": "code",
   "execution_count": null,
   "metadata": {
    "id": "gYcr863MG2SS"
   },
   "outputs": [],
   "source": [
    "# unittest MODULE\n",
    "# A module to test your program (in a big project)\n",
    "# (I believe) This will not appear in the final test,\n",
    "# but this is the documentation for it:\n",
    "# https://docs.python.org/3/library/unittest.html"
   ]
  }
 ],
 "metadata": {
  "colab": {
   "collapsed_sections": [],
   "name": "@htnm PYTHON LAST REVIEW.ipynb",
   "provenance": [],
   "toc_visible": true
  },
  "kernelspec": {
   "display_name": "Python 3",
   "language": "python",
   "name": "python3"
  },
  "language_info": {
   "codemirror_mode": {
    "name": "ipython",
    "version": 3
   },
   "file_extension": ".py",
   "mimetype": "text/x-python",
   "name": "python",
   "nbconvert_exporter": "python",
   "pygments_lexer": "ipython3",
   "version": "3.9.4"
  }
 },
 "nbformat": 4,
 "nbformat_minor": 1
}
